{
  "nbformat": 4,
  "nbformat_minor": 0,
  "metadata": {
    "colab": {
      "name": "taxi Fare Predictions.ipynb",
      "provenance": [],
      "collapsed_sections": []
    },
    "kernelspec": {
      "name": "python3",
      "display_name": "Python 3"
    },
    "language_info": {
      "name": "python"
    }
  },
  "cells": [
    {
      "cell_type": "code",
      "metadata": {
        "colab": {
          "base_uri": "https://localhost:8080/"
        },
        "id": "DIF8aGhqI0Vd",
        "outputId": "92c08ba5-ce00-4798-f173-e2004a6b0d67"
      },
      "source": [
        "!wget 'https://storage.googleapis.com/kaggle-competitions-data/kaggle-v2/10170/61318/compressed/train.csv.zip?GoogleAccessId=web-data@kaggle-161607.iam.gserviceaccount.com&Expires=1636127029&Signature=By%2BROTgOTP6q0h1A6i8XZV9UgMfPQCEvbEfNuF8mhTKqLFjLsr0q3DpVbl99kWcNqj%2B4%2BemzxrdDzCwEfF6O%2FdYG5sfYorlR%2FjEpO01RL8C1nn3F%2BeZJQDdyImJHqUgYGPWHAGprKUVDyS1Ui4eUTfEjfOC6dX7LYfQVRkBdUD82z%2FO96lZHK9MIbrstlYK%2Ff3dKVQFZsSQXrvoluhde82ga%2BtxPydyIfvdpT6jtschMylynl6zYrGHPzYqgGFDZUJtEqgOLgj%2FcBKKANqTKMgojoK4NT3Tyu%2BLuyzEkEJY1T5LDg4KcJzBBORu3c2Y3VqlnDzVr0cPS%2F1peksaVvA%3D%3D&response-content-disposition=attachment%3B+filename%3Dtrain.csv.zip'"
      ],
      "execution_count": 104,
      "outputs": [
        {
          "output_type": "stream",
          "name": "stdout",
          "text": [
            "The name is too long, 525 chars total.\n",
            "Trying to shorten...\n",
            "New name is train.csv.zip?GoogleAccessId=web-data@kaggle-161607.iam.gserviceaccount.com&Expires=1636127029&Signature=By+ROTgOTP6q0h1A6i8XZV9UgMfPQCEvbEfNuF8mhTKqLFjLsr0q3DpVbl99kWcNqj+4+emzxrdDzCwEfF6O%2FdYG5sfYorlR%2FjEpO01RL8C1nn3F+eZJQDdyImJHqUg.\n",
            "--2021-11-02 16:09:50--  https://storage.googleapis.com/kaggle-competitions-data/kaggle-v2/10170/61318/compressed/train.csv.zip?GoogleAccessId=web-data@kaggle-161607.iam.gserviceaccount.com&Expires=1636127029&Signature=By%2BROTgOTP6q0h1A6i8XZV9UgMfPQCEvbEfNuF8mhTKqLFjLsr0q3DpVbl99kWcNqj%2B4%2BemzxrdDzCwEfF6O%2FdYG5sfYorlR%2FjEpO01RL8C1nn3F%2BeZJQDdyImJHqUgYGPWHAGprKUVDyS1Ui4eUTfEjfOC6dX7LYfQVRkBdUD82z%2FO96lZHK9MIbrstlYK%2Ff3dKVQFZsSQXrvoluhde82ga%2BtxPydyIfvdpT6jtschMylynl6zYrGHPzYqgGFDZUJtEqgOLgj%2FcBKKANqTKMgojoK4NT3Tyu%2BLuyzEkEJY1T5LDg4KcJzBBORu3c2Y3VqlnDzVr0cPS%2F1peksaVvA%3D%3D&response-content-disposition=attachment%3B+filename%3Dtrain.csv.zip\n",
            "Resolving storage.googleapis.com (storage.googleapis.com)... 172.217.15.112, 172.217.164.144, 172.253.62.128, ...\n",
            "Connecting to storage.googleapis.com (storage.googleapis.com)|172.217.15.112|:443... connected.\n",
            "HTTP request sent, awaiting response... 200 OK\n",
            "Length: 1674351608 (1.6G) [application/zip]\n",
            "Saving to: ‘train.csv.zip?GoogleAccessId=web-data@kaggle-161607.iam.gserviceaccount.com&Expires=1636127029&Signature=By+ROTgOTP6q0h1A6i8XZV9UgMfPQCEvbEfNuF8mhTKqLFjLsr0q3DpVbl99kWcNqj+4+emzxrdDzCwEfF6O%2FdYG5sfYorlR%2FjEpO01RL8C1nn3F+eZJQDdyImJHqUg’\n",
            "\n",
            "train.csv.zip?Googl 100%[===================>]   1.56G  86.1MB/s    in 18s     \n",
            "\n",
            "2021-11-02 16:10:08 (91.0 MB/s) - ‘train.csv.zip?GoogleAccessId=web-data@kaggle-161607.iam.gserviceaccount.com&Expires=1636127029&Signature=By+ROTgOTP6q0h1A6i8XZV9UgMfPQCEvbEfNuF8mhTKqLFjLsr0q3DpVbl99kWcNqj+4+emzxrdDzCwEfF6O%2FdYG5sfYorlR%2FjEpO01RL8C1nn3F+eZJQDdyImJHqUg’ saved [1674351608/1674351608]\n",
            "\n"
          ]
        }
      ]
    },
    {
      "cell_type": "code",
      "metadata": {
        "colab": {
          "base_uri": "https://localhost:8080/"
        },
        "id": "Zvlb_MOmLEwH",
        "outputId": "7356cbba-3e19-461c-af66-2225fed8b626"
      },
      "source": [
        "!wget 'https://storage.googleapis.com/kagglesdsdata/competitions/10170/61318/test.csv?GoogleAccessId=web-data@kaggle-161607.iam.gserviceaccount.com&Expires=1636127071&Signature=Q89tG9Gwj27qbQmBpq3eQv2FsLKuwAJkzf23RKqaYm%2FOhoA7%2BES3i5CMo90mEMxdYPUGj%2FZ9ArWBg5168%2BUv16FvX0HCZsGaIo9Xzm4UYURR505KFybBblPEPAm%2F1ZFzGfAvORWCI%2BVKeZNXhYppWSdk%2FccsrHX472OuFDXwhqbT8Ww4mcgvs64Zhm262o8QmSbT2bI5KVv636mBAJnvBNCsczG368AzkgQMn1jrqMXxr3u3hLxTpT8meJH%2Bj%2FUlmZB6b5561l4aIe5qLhdQPMx1E%2Bp50rdMy%2BUbK3jhqQP8xBupeJFYdyyo%2BKVwuomuVTRBANOHKjzfoNUD8vGu%2Fw%3D%3D&response-content-disposition=attachment%3B+filename%3Dtest.csv'"
      ],
      "execution_count": 105,
      "outputs": [
        {
          "output_type": "stream",
          "name": "stdout",
          "text": [
            "The name is too long, 515 chars total.\n",
            "Trying to shorten...\n",
            "New name is test.csv?GoogleAccessId=web-data@kaggle-161607.iam.gserviceaccount.com&Expires=1636127071&Signature=Q89tG9Gwj27qbQmBpq3eQv2FsLKuwAJkzf23RKqaYm%2FOhoA7+ES3i5CMo90mEMxdYPUGj%2FZ9ArWBg5168+Uv16FvX0HCZsGaIo9Xzm4UYURR505KFybBblPEPAm%2F1ZFzGf.\n",
            "--2021-11-02 16:10:08--  https://storage.googleapis.com/kagglesdsdata/competitions/10170/61318/test.csv?GoogleAccessId=web-data@kaggle-161607.iam.gserviceaccount.com&Expires=1636127071&Signature=Q89tG9Gwj27qbQmBpq3eQv2FsLKuwAJkzf23RKqaYm%2FOhoA7%2BES3i5CMo90mEMxdYPUGj%2FZ9ArWBg5168%2BUv16FvX0HCZsGaIo9Xzm4UYURR505KFybBblPEPAm%2F1ZFzGfAvORWCI%2BVKeZNXhYppWSdk%2FccsrHX472OuFDXwhqbT8Ww4mcgvs64Zhm262o8QmSbT2bI5KVv636mBAJnvBNCsczG368AzkgQMn1jrqMXxr3u3hLxTpT8meJH%2Bj%2FUlmZB6b5561l4aIe5qLhdQPMx1E%2Bp50rdMy%2BUbK3jhqQP8xBupeJFYdyyo%2BKVwuomuVTRBANOHKjzfoNUD8vGu%2Fw%3D%3D&response-content-disposition=attachment%3B+filename%3Dtest.csv\n",
            "Resolving storage.googleapis.com (storage.googleapis.com)... 172.253.63.128, 142.250.31.128, 142.250.73.208, ...\n",
            "Connecting to storage.googleapis.com (storage.googleapis.com)|172.253.63.128|:443... connected.\n",
            "HTTP request sent, awaiting response... 200 OK\n",
            "Length: 983020 (960K) [application/octet-stream]\n",
            "Saving to: ‘test.csv?GoogleAccessId=web-data@kaggle-161607.iam.gserviceaccount.com&Expires=1636127071&Signature=Q89tG9Gwj27qbQmBpq3eQv2FsLKuwAJkzf23RKqaYm%2FOhoA7+ES3i5CMo90mEMxdYPUGj%2FZ9ArWBg5168+Uv16FvX0HCZsGaIo9Xzm4UYURR505KFybBblPEPAm%2F1ZFzGf’\n",
            "\n",
            "\r          test.csv?   0%[                    ]       0  --.-KB/s               \rtest.csv?GoogleAcce 100%[===================>] 959.98K  --.-KB/s    in 0.008s  \n",
            "\n",
            "2021-11-02 16:10:08 (116 MB/s) - ‘test.csv?GoogleAccessId=web-data@kaggle-161607.iam.gserviceaccount.com&Expires=1636127071&Signature=Q89tG9Gwj27qbQmBpq3eQv2FsLKuwAJkzf23RKqaYm%2FOhoA7+ES3i5CMo90mEMxdYPUGj%2FZ9ArWBg5168+Uv16FvX0HCZsGaIo9Xzm4UYURR505KFybBblPEPAm%2F1ZFzGf’ saved [983020/983020]\n",
            "\n"
          ]
        }
      ]
    },
    {
      "cell_type": "code",
      "metadata": {
        "id": "8AZqCsXSLoyC",
        "colab": {
          "base_uri": "https://localhost:8080/"
        },
        "outputId": "f55802a6-093a-4039-ff63-afdcc40e7359"
      },
      "source": [
        "!wget 'https://storage.googleapis.com/kagglesdsdata/competitions/10170/61318/sample_submission.csv?GoogleAccessId=web-data@kaggle-161607.iam.gserviceaccount.com&Expires=1636127114&Signature=gJCJUA3LfZHeE5pduH3%2BLIinw5VnEfTZEr1kqze3qk01RSrtWr5NvLaHVf%2FbH%2BIefCSVWeJa7D5bqNLv6XMHjQvO2cYO8Nga1%2BS78xn0K0hDtcYX6JR4EaOts6YhrPuNRhc3dx4IQ0%2BayBIu28%2F3orw51FxALKz7McBctSidClIUXqmjVnidDJpiYY129LN02mQbnVhBBMaDTMB6NLTrjX4B4%2FAcF6pfRs5cjsO4kEtb6xLUum3DSJlIqdcB6q1vhl0tPHxds8yfxM0akZ%2BBt1jMbL8JvDNMH1Uyx1FkHtObOyPSOO9tFPGoOAVMhjBh2iJ9qEndYOdy8VUMbXDB9w%3D%3D&response-content-disposition=attachment%3B+filename%3Dsample_submission.csv'"
      ],
      "execution_count": 106,
      "outputs": [
        {
          "output_type": "stream",
          "name": "stdout",
          "text": [
            "The name is too long, 535 chars total.\n",
            "Trying to shorten...\n",
            "New name is sample_submission.csv?GoogleAccessId=web-data@kaggle-161607.iam.gserviceaccount.com&Expires=1636127114&Signature=gJCJUA3LfZHeE5pduH3+LIinw5VnEfTZEr1kqze3qk01RSrtWr5NvLaHVf%2FbH+IefCSVWeJa7D5bqNLv6XMHjQvO2cYO8Nga1+S78xn0K0hDtcYX6JR4EaOts.\n",
            "--2021-11-02 16:10:08--  https://storage.googleapis.com/kagglesdsdata/competitions/10170/61318/sample_submission.csv?GoogleAccessId=web-data@kaggle-161607.iam.gserviceaccount.com&Expires=1636127114&Signature=gJCJUA3LfZHeE5pduH3%2BLIinw5VnEfTZEr1kqze3qk01RSrtWr5NvLaHVf%2FbH%2BIefCSVWeJa7D5bqNLv6XMHjQvO2cYO8Nga1%2BS78xn0K0hDtcYX6JR4EaOts6YhrPuNRhc3dx4IQ0%2BayBIu28%2F3orw51FxALKz7McBctSidClIUXqmjVnidDJpiYY129LN02mQbnVhBBMaDTMB6NLTrjX4B4%2FAcF6pfRs5cjsO4kEtb6xLUum3DSJlIqdcB6q1vhl0tPHxds8yfxM0akZ%2BBt1jMbL8JvDNMH1Uyx1FkHtObOyPSOO9tFPGoOAVMhjBh2iJ9qEndYOdy8VUMbXDB9w%3D%3D&response-content-disposition=attachment%3B+filename%3Dsample_submission.csv\n",
            "Resolving storage.googleapis.com (storage.googleapis.com)... 142.250.73.208, 142.250.65.80, 142.250.73.240, ...\n",
            "Connecting to storage.googleapis.com (storage.googleapis.com)|142.250.73.208|:443... connected.\n",
            "HTTP request sent, awaiting response... 200 OK\n",
            "Length: 343271 (335K) [application/octet-stream]\n",
            "Saving to: ‘sample_submission.csv?GoogleAccessId=web-data@kaggle-161607.iam.gserviceaccount.com&Expires=1636127114&Signature=gJCJUA3LfZHeE5pduH3+LIinw5VnEfTZEr1kqze3qk01RSrtWr5NvLaHVf%2FbH+IefCSVWeJa7D5bqNLv6XMHjQvO2cYO8Nga1+S78xn0K0hDtcYX6JR4EaOts’\n",
            "\n",
            "\r          sample_su   0%[                    ]       0  --.-KB/s               \rsample_submission.c 100%[===================>] 335.23K  --.-KB/s    in 0.003s  \n",
            "\n",
            "2021-11-02 16:10:08 (118 MB/s) - ‘sample_submission.csv?GoogleAccessId=web-data@kaggle-161607.iam.gserviceaccount.com&Expires=1636127114&Signature=gJCJUA3LfZHeE5pduH3+LIinw5VnEfTZEr1kqze3qk01RSrtWr5NvLaHVf%2FbH+IefCSVWeJa7D5bqNLv6XMHjQvO2cYO8Nga1+S78xn0K0hDtcYX6JR4EaOts’ saved [343271/343271]\n",
            "\n"
          ]
        }
      ]
    },
    {
      "cell_type": "code",
      "metadata": {
        "id": "tapilxU6Lr9l"
      },
      "source": [
        "import zipfile\n",
        "\n",
        "with zipfile.ZipFile('train.csv.zip' , 'r') as zip_ref : \n",
        "  zip_ref.extractall('train')"
      ],
      "execution_count": 107,
      "outputs": []
    },
    {
      "cell_type": "code",
      "metadata": {
        "id": "jMdslyoLNqCU",
        "colab": {
          "base_uri": "https://localhost:8080/"
        },
        "outputId": "f332ca06-96e0-47df-ecd2-176a8688bed1"
      },
      "source": [
        "import numpy as np\n",
        "import pandas as pd\n",
        "import sklearn\n",
        "import seaborn as sns\n",
        "import matplotlib.pyplot as plt\n",
        "import os\n",
        "print(os.listdir('../content/'))"
      ],
      "execution_count": 108,
      "outputs": [
        {
          "output_type": "stream",
          "name": "stdout",
          "text": [
            "['.config', 'sample_submission.csv', 'train', 'test.csv', 'train.csv.zip?GoogleAccessId=web-data@kaggle-161607.iam.gserviceaccount.com&Expires=1636127029&Signature=By+ROTgOTP6q0h1A6i8XZV9UgMfPQCEvbEfNuF8mhTKqLFjLsr0q3DpVbl99kWcNqj+4+emzxrdDzCwEfF6O%2FdYG5sfYorlR%2FjEpO01RL8C1nn3F+eZJQDdyImJHqUg', 'test.csv?GoogleAccessId=web-data@kaggle-161607.iam.gserviceaccount.com&Expires=1636127071&Signature=Q89tG9Gwj27qbQmBpq3eQv2FsLKuwAJkzf23RKqaYm%2FOhoA7+ES3i5CMo90mEMxdYPUGj%2FZ9ArWBg5168+Uv16FvX0HCZsGaIo9Xzm4UYURR505KFybBblPEPAm%2F1ZFzGf', 'sample_submission.csv?GoogleAccessId=web-data@kaggle-161607.iam.gserviceaccount.com&Expires=1636127114&Signature=gJCJUA3LfZHeE5pduH3+LIinw5VnEfTZEr1kqze3qk01RSrtWr5NvLaHVf%2FbH+IefCSVWeJa7D5bqNLv6XMHjQvO2cYO8Nga1+S78xn0K0hDtcYX6JR4EaOts', 'train.csv.zip', '.ipynb_checkpoints', 'sample_data']\n"
          ]
        }
      ]
    },
    {
      "cell_type": "code",
      "metadata": {
        "id": "QqA9FJjURaUx"
      },
      "source": [
        "sample = pd.read_csv('../content/sample_submission.csv')"
      ],
      "execution_count": 194,
      "outputs": []
    },
    {
      "cell_type": "code",
      "metadata": {
        "id": "vwoa3FTlMWkO"
      },
      "source": [
        "train = pd.read_csv('../content/train/train.csv' , nrows = 1000000)\n",
        "\n",
        "test = pd.read_csv('../content/test.csv')"
      ],
      "execution_count": 195,
      "outputs": []
    },
    {
      "cell_type": "code",
      "metadata": {
        "id": "CktE-mJpO9BZ",
        "colab": {
          "base_uri": "https://localhost:8080/"
        },
        "outputId": "ba76f44e-c01d-43c9-c18c-057c21875b9e"
      },
      "source": [
        "train.shape"
      ],
      "execution_count": 196,
      "outputs": [
        {
          "output_type": "execute_result",
          "data": {
            "text/plain": [
              "(1000000, 8)"
            ]
          },
          "metadata": {},
          "execution_count": 196
        }
      ]
    },
    {
      "cell_type": "code",
      "metadata": {
        "id": "Eofw3IAQO95W",
        "colab": {
          "base_uri": "https://localhost:8080/"
        },
        "outputId": "fecd0990-cb2d-402a-eb3a-dbeefbca6bb7"
      },
      "source": [
        "test.shape"
      ],
      "execution_count": 197,
      "outputs": [
        {
          "output_type": "execute_result",
          "data": {
            "text/plain": [
              "(9914, 7)"
            ]
          },
          "metadata": {},
          "execution_count": 197
        }
      ]
    },
    {
      "cell_type": "code",
      "metadata": {
        "id": "0LrtolYIPDtW",
        "colab": {
          "base_uri": "https://localhost:8080/",
          "height": 309
        },
        "outputId": "b8a070bb-8838-4c17-adab-9bf334bc98d2"
      },
      "source": [
        "train.head()"
      ],
      "execution_count": 198,
      "outputs": [
        {
          "output_type": "execute_result",
          "data": {
            "text/html": [
              "<div>\n",
              "<style scoped>\n",
              "    .dataframe tbody tr th:only-of-type {\n",
              "        vertical-align: middle;\n",
              "    }\n",
              "\n",
              "    .dataframe tbody tr th {\n",
              "        vertical-align: top;\n",
              "    }\n",
              "\n",
              "    .dataframe thead th {\n",
              "        text-align: right;\n",
              "    }\n",
              "</style>\n",
              "<table border=\"1\" class=\"dataframe\">\n",
              "  <thead>\n",
              "    <tr style=\"text-align: right;\">\n",
              "      <th></th>\n",
              "      <th>key</th>\n",
              "      <th>fare_amount</th>\n",
              "      <th>pickup_datetime</th>\n",
              "      <th>pickup_longitude</th>\n",
              "      <th>pickup_latitude</th>\n",
              "      <th>dropoff_longitude</th>\n",
              "      <th>dropoff_latitude</th>\n",
              "      <th>passenger_count</th>\n",
              "    </tr>\n",
              "  </thead>\n",
              "  <tbody>\n",
              "    <tr>\n",
              "      <th>0</th>\n",
              "      <td>2009-06-15 17:26:21.0000001</td>\n",
              "      <td>4.5</td>\n",
              "      <td>2009-06-15 17:26:21 UTC</td>\n",
              "      <td>-73.844311</td>\n",
              "      <td>40.721319</td>\n",
              "      <td>-73.841610</td>\n",
              "      <td>40.712278</td>\n",
              "      <td>1</td>\n",
              "    </tr>\n",
              "    <tr>\n",
              "      <th>1</th>\n",
              "      <td>2010-01-05 16:52:16.0000002</td>\n",
              "      <td>16.9</td>\n",
              "      <td>2010-01-05 16:52:16 UTC</td>\n",
              "      <td>-74.016048</td>\n",
              "      <td>40.711303</td>\n",
              "      <td>-73.979268</td>\n",
              "      <td>40.782004</td>\n",
              "      <td>1</td>\n",
              "    </tr>\n",
              "    <tr>\n",
              "      <th>2</th>\n",
              "      <td>2011-08-18 00:35:00.00000049</td>\n",
              "      <td>5.7</td>\n",
              "      <td>2011-08-18 00:35:00 UTC</td>\n",
              "      <td>-73.982738</td>\n",
              "      <td>40.761270</td>\n",
              "      <td>-73.991242</td>\n",
              "      <td>40.750562</td>\n",
              "      <td>2</td>\n",
              "    </tr>\n",
              "    <tr>\n",
              "      <th>3</th>\n",
              "      <td>2012-04-21 04:30:42.0000001</td>\n",
              "      <td>7.7</td>\n",
              "      <td>2012-04-21 04:30:42 UTC</td>\n",
              "      <td>-73.987130</td>\n",
              "      <td>40.733143</td>\n",
              "      <td>-73.991567</td>\n",
              "      <td>40.758092</td>\n",
              "      <td>1</td>\n",
              "    </tr>\n",
              "    <tr>\n",
              "      <th>4</th>\n",
              "      <td>2010-03-09 07:51:00.000000135</td>\n",
              "      <td>5.3</td>\n",
              "      <td>2010-03-09 07:51:00 UTC</td>\n",
              "      <td>-73.968095</td>\n",
              "      <td>40.768008</td>\n",
              "      <td>-73.956655</td>\n",
              "      <td>40.783762</td>\n",
              "      <td>1</td>\n",
              "    </tr>\n",
              "  </tbody>\n",
              "</table>\n",
              "</div>"
            ],
            "text/plain": [
              "                             key  ...  passenger_count\n",
              "0    2009-06-15 17:26:21.0000001  ...                1\n",
              "1    2010-01-05 16:52:16.0000002  ...                1\n",
              "2   2011-08-18 00:35:00.00000049  ...                2\n",
              "3    2012-04-21 04:30:42.0000001  ...                1\n",
              "4  2010-03-09 07:51:00.000000135  ...                1\n",
              "\n",
              "[5 rows x 8 columns]"
            ]
          },
          "metadata": {},
          "execution_count": 198
        }
      ]
    },
    {
      "cell_type": "code",
      "metadata": {
        "id": "aOed1Q-gQ9tP",
        "colab": {
          "base_uri": "https://localhost:8080/",
          "height": 297
        },
        "outputId": "7d81e77d-df93-4198-f8f3-1354134ecd62"
      },
      "source": [
        "train.describe()"
      ],
      "execution_count": 199,
      "outputs": [
        {
          "output_type": "execute_result",
          "data": {
            "text/html": [
              "<div>\n",
              "<style scoped>\n",
              "    .dataframe tbody tr th:only-of-type {\n",
              "        vertical-align: middle;\n",
              "    }\n",
              "\n",
              "    .dataframe tbody tr th {\n",
              "        vertical-align: top;\n",
              "    }\n",
              "\n",
              "    .dataframe thead th {\n",
              "        text-align: right;\n",
              "    }\n",
              "</style>\n",
              "<table border=\"1\" class=\"dataframe\">\n",
              "  <thead>\n",
              "    <tr style=\"text-align: right;\">\n",
              "      <th></th>\n",
              "      <th>fare_amount</th>\n",
              "      <th>pickup_longitude</th>\n",
              "      <th>pickup_latitude</th>\n",
              "      <th>dropoff_longitude</th>\n",
              "      <th>dropoff_latitude</th>\n",
              "      <th>passenger_count</th>\n",
              "    </tr>\n",
              "  </thead>\n",
              "  <tbody>\n",
              "    <tr>\n",
              "      <th>count</th>\n",
              "      <td>1000000.000000</td>\n",
              "      <td>1000000.000000</td>\n",
              "      <td>1000000.000000</td>\n",
              "      <td>999990.000000</td>\n",
              "      <td>999990.000000</td>\n",
              "      <td>1000000.000000</td>\n",
              "    </tr>\n",
              "    <tr>\n",
              "      <th>mean</th>\n",
              "      <td>11.348079</td>\n",
              "      <td>-72.526640</td>\n",
              "      <td>39.929008</td>\n",
              "      <td>-72.527860</td>\n",
              "      <td>39.919954</td>\n",
              "      <td>1.684924</td>\n",
              "    </tr>\n",
              "    <tr>\n",
              "      <th>std</th>\n",
              "      <td>9.822090</td>\n",
              "      <td>12.057937</td>\n",
              "      <td>7.626154</td>\n",
              "      <td>11.324494</td>\n",
              "      <td>8.201418</td>\n",
              "      <td>1.323911</td>\n",
              "    </tr>\n",
              "    <tr>\n",
              "      <th>min</th>\n",
              "      <td>-44.900000</td>\n",
              "      <td>-3377.680935</td>\n",
              "      <td>-3116.285383</td>\n",
              "      <td>-3383.296608</td>\n",
              "      <td>-3114.338567</td>\n",
              "      <td>0.000000</td>\n",
              "    </tr>\n",
              "    <tr>\n",
              "      <th>25%</th>\n",
              "      <td>6.000000</td>\n",
              "      <td>-73.992060</td>\n",
              "      <td>40.734965</td>\n",
              "      <td>-73.991385</td>\n",
              "      <td>40.734046</td>\n",
              "      <td>1.000000</td>\n",
              "    </tr>\n",
              "    <tr>\n",
              "      <th>50%</th>\n",
              "      <td>8.500000</td>\n",
              "      <td>-73.981792</td>\n",
              "      <td>40.752695</td>\n",
              "      <td>-73.980135</td>\n",
              "      <td>40.753166</td>\n",
              "      <td>1.000000</td>\n",
              "    </tr>\n",
              "    <tr>\n",
              "      <th>75%</th>\n",
              "      <td>12.500000</td>\n",
              "      <td>-73.967094</td>\n",
              "      <td>40.767154</td>\n",
              "      <td>-73.963654</td>\n",
              "      <td>40.768129</td>\n",
              "      <td>2.000000</td>\n",
              "    </tr>\n",
              "    <tr>\n",
              "      <th>max</th>\n",
              "      <td>500.000000</td>\n",
              "      <td>2522.271325</td>\n",
              "      <td>2621.628430</td>\n",
              "      <td>45.581619</td>\n",
              "      <td>1651.553433</td>\n",
              "      <td>208.000000</td>\n",
              "    </tr>\n",
              "  </tbody>\n",
              "</table>\n",
              "</div>"
            ],
            "text/plain": [
              "          fare_amount  pickup_longitude  ...  dropoff_latitude  passenger_count\n",
              "count  1000000.000000    1000000.000000  ...     999990.000000   1000000.000000\n",
              "mean        11.348079        -72.526640  ...         39.919954         1.684924\n",
              "std          9.822090         12.057937  ...          8.201418         1.323911\n",
              "min        -44.900000      -3377.680935  ...      -3114.338567         0.000000\n",
              "25%          6.000000        -73.992060  ...         40.734046         1.000000\n",
              "50%          8.500000        -73.981792  ...         40.753166         1.000000\n",
              "75%         12.500000        -73.967094  ...         40.768129         2.000000\n",
              "max        500.000000       2522.271325  ...       1651.553433       208.000000\n",
              "\n",
              "[8 rows x 6 columns]"
            ]
          },
          "metadata": {},
          "execution_count": 199
        }
      ]
    },
    {
      "cell_type": "code",
      "metadata": {
        "id": "cdTG9JZLQ_im",
        "colab": {
          "base_uri": "https://localhost:8080/"
        },
        "outputId": "39b18fc8-1a1d-4359-a223-1eb781b3e4d2"
      },
      "source": [
        "#check for missing values in train data\n",
        "\n",
        "train.isnull().sum().sort_values(ascending = False)"
      ],
      "execution_count": 200,
      "outputs": [
        {
          "output_type": "execute_result",
          "data": {
            "text/plain": [
              "dropoff_latitude     10\n",
              "dropoff_longitude    10\n",
              "passenger_count       0\n",
              "pickup_latitude       0\n",
              "pickup_longitude      0\n",
              "pickup_datetime       0\n",
              "fare_amount           0\n",
              "key                   0\n",
              "dtype: int64"
            ]
          },
          "metadata": {},
          "execution_count": 200
        }
      ]
    },
    {
      "cell_type": "code",
      "metadata": {
        "id": "_hL3WqVeShlA",
        "colab": {
          "base_uri": "https://localhost:8080/"
        },
        "outputId": "6faec5dc-8b37-4de9-f9e0-718e01fc6294"
      },
      "source": [
        "#check for missing values in test data\n",
        "\n",
        "test.isnull().sum().sort_values(ascending = False)"
      ],
      "execution_count": 201,
      "outputs": [
        {
          "output_type": "execute_result",
          "data": {
            "text/plain": [
              "passenger_count      0\n",
              "dropoff_latitude     0\n",
              "dropoff_longitude    0\n",
              "pickup_latitude      0\n",
              "pickup_longitude     0\n",
              "pickup_datetime      0\n",
              "key                  0\n",
              "dtype: int64"
            ]
          },
          "metadata": {},
          "execution_count": 201
        }
      ]
    },
    {
      "cell_type": "code",
      "metadata": {
        "id": "FjKsDdktTDaX"
      },
      "source": [
        "#drop the missing values\n",
        "train.dropna(axis = 0 ,inplace =True)"
      ],
      "execution_count": 202,
      "outputs": []
    },
    {
      "cell_type": "code",
      "metadata": {
        "id": "RCZVYottTxcV",
        "colab": {
          "base_uri": "https://localhost:8080/"
        },
        "outputId": "df0533e1-b8b8-482a-a2c3-10bbdeda7287"
      },
      "source": [
        "train.shape"
      ],
      "execution_count": 203,
      "outputs": [
        {
          "output_type": "execute_result",
          "data": {
            "text/plain": [
              "(999990, 8)"
            ]
          },
          "metadata": {},
          "execution_count": 203
        }
      ]
    },
    {
      "cell_type": "code",
      "metadata": {
        "id": "TXvJ3gWyTzXt",
        "colab": {
          "base_uri": "https://localhost:8080/"
        },
        "outputId": "a8ee724a-9efb-441c-c63a-8086763fbe4f"
      },
      "source": [
        "#check the target column\n",
        "train['fare_amount'].describe()"
      ],
      "execution_count": 204,
      "outputs": [
        {
          "output_type": "execute_result",
          "data": {
            "text/plain": [
              "count    999990.000000\n",
              "mean         11.347953\n",
              "std           9.821790\n",
              "min         -44.900000\n",
              "25%           6.000000\n",
              "50%           8.500000\n",
              "75%          12.500000\n",
              "max         500.000000\n",
              "Name: fare_amount, dtype: float64"
            ]
          },
          "metadata": {},
          "execution_count": 204
        }
      ]
    },
    {
      "cell_type": "code",
      "metadata": {
        "id": "1F0hPYEOT53w",
        "colab": {
          "base_uri": "https://localhost:8080/"
        },
        "outputId": "c2167472-504e-4f21-ee37-e47f4728ee2b"
      },
      "source": [
        "from collections import Counter\n",
        "Counter(train['fare_amount']<0)"
      ],
      "execution_count": 205,
      "outputs": [
        {
          "output_type": "execute_result",
          "data": {
            "text/plain": [
              "Counter({False: 999952, True: 38})"
            ]
          },
          "metadata": {},
          "execution_count": 205
        }
      ]
    },
    {
      "cell_type": "code",
      "metadata": {
        "id": "WH7uETeIUVIE",
        "colab": {
          "base_uri": "https://localhost:8080/"
        },
        "outputId": "7b71687f-c305-4bcc-a380-00a0c48d59aa"
      },
      "source": [
        "#38 fields have negative fare_amount values\n",
        "\n",
        "train = train.drop(train[train['fare_amount']<0].index , axis = 0)\n",
        "train.shape"
      ],
      "execution_count": 206,
      "outputs": [
        {
          "output_type": "execute_result",
          "data": {
            "text/plain": [
              "(999952, 8)"
            ]
          },
          "metadata": {},
          "execution_count": 206
        }
      ]
    },
    {
      "cell_type": "code",
      "metadata": {
        "id": "Hj-hmIqCWIQ3",
        "colab": {
          "base_uri": "https://localhost:8080/"
        },
        "outputId": "e1980f3e-95b8-46b6-e9fa-6b6089ef3122"
      },
      "source": [
        "train['fare_amount'].describe()"
      ],
      "execution_count": 207,
      "outputs": [
        {
          "output_type": "execute_result",
          "data": {
            "text/plain": [
              "count    999952.000000\n",
              "mean         11.348616\n",
              "std           9.821249\n",
              "min           0.000000\n",
              "25%           6.000000\n",
              "50%           8.500000\n",
              "75%          12.500000\n",
              "max         500.000000\n",
              "Name: fare_amount, dtype: float64"
            ]
          },
          "metadata": {},
          "execution_count": 207
        }
      ]
    },
    {
      "cell_type": "code",
      "metadata": {
        "id": "1S8d6UTrWSaz",
        "colab": {
          "base_uri": "https://localhost:8080/"
        },
        "outputId": "515f932e-1df8-4334-b571-a68a73cfa756"
      },
      "source": [
        "train['fare_amount'].sort_values(ascending = False)"
      ],
      "execution_count": 208,
      "outputs": [
        {
          "output_type": "execute_result",
          "data": {
            "text/plain": [
              "101885    500.0\n",
              "247671    495.0\n",
              "287638    450.0\n",
              "233874    450.0\n",
              "329010    450.0\n",
              "          ...  \n",
              "689250      0.0\n",
              "211455      0.0\n",
              "211499      0.0\n",
              "105051      0.0\n",
              "495273      0.0\n",
              "Name: fare_amount, Length: 999952, dtype: float64"
            ]
          },
          "metadata": {},
          "execution_count": 208
        }
      ]
    },
    {
      "cell_type": "code",
      "metadata": {
        "id": "UlPXD5idW1Mp",
        "colab": {
          "base_uri": "https://localhost:8080/"
        },
        "outputId": "b74e8439-87d4-4bcc-8e23-e342ea321fec"
      },
      "source": [
        "#check passenger_count variable \n",
        "\n",
        "train['passenger_count'].describe()"
      ],
      "execution_count": 209,
      "outputs": [
        {
          "output_type": "execute_result",
          "data": {
            "text/plain": [
              "count    999952.000000\n",
              "mean          1.684942\n",
              "std           1.323908\n",
              "min           0.000000\n",
              "25%           1.000000\n",
              "50%           1.000000\n",
              "75%           2.000000\n",
              "max         208.000000\n",
              "Name: passenger_count, dtype: float64"
            ]
          },
          "metadata": {},
          "execution_count": 209
        }
      ]
    },
    {
      "cell_type": "code",
      "metadata": {
        "id": "xN-Ht6PLaLJr",
        "colab": {
          "base_uri": "https://localhost:8080/",
          "height": 117
        },
        "outputId": "deb2c596-000b-4765-c557-7ea33e845c48"
      },
      "source": [
        "#max is 288 passenger\n",
        "\n",
        "train[train['passenger_count']>6]"
      ],
      "execution_count": 210,
      "outputs": [
        {
          "output_type": "execute_result",
          "data": {
            "text/html": [
              "<div>\n",
              "<style scoped>\n",
              "    .dataframe tbody tr th:only-of-type {\n",
              "        vertical-align: middle;\n",
              "    }\n",
              "\n",
              "    .dataframe tbody tr th {\n",
              "        vertical-align: top;\n",
              "    }\n",
              "\n",
              "    .dataframe thead th {\n",
              "        text-align: right;\n",
              "    }\n",
              "</style>\n",
              "<table border=\"1\" class=\"dataframe\">\n",
              "  <thead>\n",
              "    <tr style=\"text-align: right;\">\n",
              "      <th></th>\n",
              "      <th>key</th>\n",
              "      <th>fare_amount</th>\n",
              "      <th>pickup_datetime</th>\n",
              "      <th>pickup_longitude</th>\n",
              "      <th>pickup_latitude</th>\n",
              "      <th>dropoff_longitude</th>\n",
              "      <th>dropoff_latitude</th>\n",
              "      <th>passenger_count</th>\n",
              "    </tr>\n",
              "  </thead>\n",
              "  <tbody>\n",
              "    <tr>\n",
              "      <th>929022</th>\n",
              "      <td>2009-07-30 11:54:00.000000193</td>\n",
              "      <td>3.3</td>\n",
              "      <td>2009-07-30 11:54:00 UTC</td>\n",
              "      <td>0.0</td>\n",
              "      <td>0.0</td>\n",
              "      <td>0.0</td>\n",
              "      <td>0.0</td>\n",
              "      <td>208</td>\n",
              "    </tr>\n",
              "  </tbody>\n",
              "</table>\n",
              "</div>"
            ],
            "text/plain": [
              "                                  key  ...  passenger_count\n",
              "929022  2009-07-30 11:54:00.000000193  ...              208\n",
              "\n",
              "[1 rows x 8 columns]"
            ]
          },
          "metadata": {},
          "execution_count": 210
        }
      ]
    },
    {
      "cell_type": "code",
      "metadata": {
        "id": "2JxJPAycarzw"
      },
      "source": [
        "train = train.drop(train[train['passenger_count']>6].index , axis = 0)"
      ],
      "execution_count": 211,
      "outputs": []
    },
    {
      "cell_type": "code",
      "metadata": {
        "id": "UQ1pLofIald5",
        "colab": {
          "base_uri": "https://localhost:8080/"
        },
        "outputId": "575b2091-d2e7-44cc-b077-74dffcfb9b02"
      },
      "source": [
        "train['passenger_count'].describe()"
      ],
      "execution_count": 212,
      "outputs": [
        {
          "output_type": "execute_result",
          "data": {
            "text/plain": [
              "count    999951.000000\n",
              "mean          1.684736\n",
              "std           1.307733\n",
              "min           0.000000\n",
              "25%           1.000000\n",
              "50%           1.000000\n",
              "75%           2.000000\n",
              "max           6.000000\n",
              "Name: passenger_count, dtype: float64"
            ]
          },
          "metadata": {},
          "execution_count": 212
        }
      ]
    },
    {
      "cell_type": "code",
      "metadata": {
        "id": "zjKEVNufbHox",
        "colab": {
          "base_uri": "https://localhost:8080/"
        },
        "outputId": "f5b66e4b-00a3-418d-ca92-b26b8c8928b0"
      },
      "source": [
        "train['pickup_latitude'].describe()"
      ],
      "execution_count": 213,
      "outputs": [
        {
          "output_type": "execute_result",
          "data": {
            "text/plain": [
              "count    999951.000000\n",
              "mean         39.929090\n",
              "std           7.626025\n",
              "min       -3116.285383\n",
              "25%          40.734965\n",
              "50%          40.752695\n",
              "75%          40.767154\n",
              "max        2621.628430\n",
              "Name: pickup_latitude, dtype: float64"
            ]
          },
          "metadata": {},
          "execution_count": 213
        }
      ]
    },
    {
      "cell_type": "markdown",
      "metadata": {
        "id": "8malVV2qbpvu"
      },
      "source": [
        "Quick Googling gave me this info\n",
        "\n",
        "Latitudes range from -90 to 90.\n",
        "\n",
        "Longitudes range from -180 to 18\n",
        "\n"
      ]
    },
    {
      "cell_type": "code",
      "metadata": {
        "id": "2dAnvm8obYU8",
        "colab": {
          "base_uri": "https://localhost:8080/",
          "height": 213
        },
        "outputId": "a2b6c97f-c179-4c5a-fa13-6c929c47b81e"
      },
      "source": [
        "train[train['pickup_latitude']< -90]"
      ],
      "execution_count": 214,
      "outputs": [
        {
          "output_type": "execute_result",
          "data": {
            "text/html": [
              "<div>\n",
              "<style scoped>\n",
              "    .dataframe tbody tr th:only-of-type {\n",
              "        vertical-align: middle;\n",
              "    }\n",
              "\n",
              "    .dataframe tbody tr th {\n",
              "        vertical-align: top;\n",
              "    }\n",
              "\n",
              "    .dataframe thead th {\n",
              "        text-align: right;\n",
              "    }\n",
              "</style>\n",
              "<table border=\"1\" class=\"dataframe\">\n",
              "  <thead>\n",
              "    <tr style=\"text-align: right;\">\n",
              "      <th></th>\n",
              "      <th>key</th>\n",
              "      <th>fare_amount</th>\n",
              "      <th>pickup_datetime</th>\n",
              "      <th>pickup_longitude</th>\n",
              "      <th>pickup_latitude</th>\n",
              "      <th>dropoff_longitude</th>\n",
              "      <th>dropoff_latitude</th>\n",
              "      <th>passenger_count</th>\n",
              "    </tr>\n",
              "  </thead>\n",
              "  <tbody>\n",
              "    <tr>\n",
              "      <th>150559</th>\n",
              "      <td>2012-08-03 07:43:00.000000176</td>\n",
              "      <td>25.3</td>\n",
              "      <td>2012-08-03 07:43:00 UTC</td>\n",
              "      <td>0.000000</td>\n",
              "      <td>-3116.285383</td>\n",
              "      <td>-73.953600</td>\n",
              "      <td>40.787998</td>\n",
              "      <td>1</td>\n",
              "    </tr>\n",
              "    <tr>\n",
              "      <th>436233</th>\n",
              "      <td>2012-03-11 01:56:00.000000100</td>\n",
              "      <td>4.1</td>\n",
              "      <td>2012-03-11 01:56:00 UTC</td>\n",
              "      <td>-2986.242495</td>\n",
              "      <td>-880.627428</td>\n",
              "      <td>-3383.296608</td>\n",
              "      <td>-2559.748913</td>\n",
              "      <td>1</td>\n",
              "    </tr>\n",
              "    <tr>\n",
              "      <th>543001</th>\n",
              "      <td>2011-10-28 13:53:00.000000178</td>\n",
              "      <td>5.3</td>\n",
              "      <td>2011-10-28 13:53:00 UTC</td>\n",
              "      <td>-3377.680935</td>\n",
              "      <td>-113.019497</td>\n",
              "      <td>-554.918693</td>\n",
              "      <td>314.794180</td>\n",
              "      <td>1</td>\n",
              "    </tr>\n",
              "  </tbody>\n",
              "</table>\n",
              "</div>"
            ],
            "text/plain": [
              "                                  key  ...  passenger_count\n",
              "150559  2012-08-03 07:43:00.000000176  ...                1\n",
              "436233  2012-03-11 01:56:00.000000100  ...                1\n",
              "543001  2011-10-28 13:53:00.000000178  ...                1\n",
              "\n",
              "[3 rows x 8 columns]"
            ]
          },
          "metadata": {},
          "execution_count": 214
        }
      ]
    },
    {
      "cell_type": "code",
      "metadata": {
        "id": "V7tgnBRkb5lL",
        "colab": {
          "base_uri": "https://localhost:8080/",
          "height": 501
        },
        "outputId": "3685a5d6-0925-4ce9-ab57-4d5cf55884d5"
      },
      "source": [
        "train[train['pickup_latitude']>90]"
      ],
      "execution_count": 215,
      "outputs": [
        {
          "output_type": "execute_result",
          "data": {
            "text/html": [
              "<div>\n",
              "<style scoped>\n",
              "    .dataframe tbody tr th:only-of-type {\n",
              "        vertical-align: middle;\n",
              "    }\n",
              "\n",
              "    .dataframe tbody tr th {\n",
              "        vertical-align: top;\n",
              "    }\n",
              "\n",
              "    .dataframe thead th {\n",
              "        text-align: right;\n",
              "    }\n",
              "</style>\n",
              "<table border=\"1\" class=\"dataframe\">\n",
              "  <thead>\n",
              "    <tr style=\"text-align: right;\">\n",
              "      <th></th>\n",
              "      <th>key</th>\n",
              "      <th>fare_amount</th>\n",
              "      <th>pickup_datetime</th>\n",
              "      <th>pickup_longitude</th>\n",
              "      <th>pickup_latitude</th>\n",
              "      <th>dropoff_longitude</th>\n",
              "      <th>dropoff_latitude</th>\n",
              "      <th>passenger_count</th>\n",
              "    </tr>\n",
              "  </thead>\n",
              "  <tbody>\n",
              "    <tr>\n",
              "      <th>5686</th>\n",
              "      <td>2011-07-30 11:15:00.00000082</td>\n",
              "      <td>3.3</td>\n",
              "      <td>2011-07-30 11:15:00 UTC</td>\n",
              "      <td>-73.947235</td>\n",
              "      <td>401.083332</td>\n",
              "      <td>-73.951392</td>\n",
              "      <td>40.778927</td>\n",
              "      <td>1</td>\n",
              "    </tr>\n",
              "    <tr>\n",
              "      <th>174356</th>\n",
              "      <td>2011-11-21 21:36:00.00000081</td>\n",
              "      <td>9.7</td>\n",
              "      <td>2011-11-21 21:36:00 UTC</td>\n",
              "      <td>2140.601160</td>\n",
              "      <td>1703.092772</td>\n",
              "      <td>-1251.195890</td>\n",
              "      <td>-1189.615440</td>\n",
              "      <td>1</td>\n",
              "    </tr>\n",
              "    <tr>\n",
              "      <th>272439</th>\n",
              "      <td>2011-04-23 02:55:00.00000012</td>\n",
              "      <td>9.3</td>\n",
              "      <td>2011-04-23 02:55:00 UTC</td>\n",
              "      <td>-74.002497</td>\n",
              "      <td>405.350000</td>\n",
              "      <td>-73.978600</td>\n",
              "      <td>40.739962</td>\n",
              "      <td>1</td>\n",
              "    </tr>\n",
              "    <tr>\n",
              "      <th>464025</th>\n",
              "      <td>2012-03-05 20:58:00.0000009</td>\n",
              "      <td>6.9</td>\n",
              "      <td>2012-03-05 20:58:00 UTC</td>\n",
              "      <td>-73.994268</td>\n",
              "      <td>404.966667</td>\n",
              "      <td>-73.973857</td>\n",
              "      <td>40.755457</td>\n",
              "      <td>1</td>\n",
              "    </tr>\n",
              "    <tr>\n",
              "      <th>505229</th>\n",
              "      <td>2012-03-05 21:08:00.0000006</td>\n",
              "      <td>9.3</td>\n",
              "      <td>2012-03-05 21:08:00 UTC</td>\n",
              "      <td>-73.994268</td>\n",
              "      <td>404.966667</td>\n",
              "      <td>-73.986387</td>\n",
              "      <td>40.776895</td>\n",
              "      <td>1</td>\n",
              "    </tr>\n",
              "    <tr>\n",
              "      <th>505583</th>\n",
              "      <td>2012-03-16 08:13:00.000000272</td>\n",
              "      <td>8.5</td>\n",
              "      <td>2012-03-16 08:13:00 UTC</td>\n",
              "      <td>-73.994277</td>\n",
              "      <td>405.133332</td>\n",
              "      <td>-73.956763</td>\n",
              "      <td>40.783737</td>\n",
              "      <td>1</td>\n",
              "    </tr>\n",
              "    <tr>\n",
              "      <th>688685</th>\n",
              "      <td>2012-03-22 21:40:00.000000188</td>\n",
              "      <td>17.3</td>\n",
              "      <td>2012-03-22 21:40:00 UTC</td>\n",
              "      <td>2522.271325</td>\n",
              "      <td>2621.628430</td>\n",
              "      <td>-1718.117653</td>\n",
              "      <td>-2864.471003</td>\n",
              "      <td>1</td>\n",
              "    </tr>\n",
              "    <tr>\n",
              "      <th>708059</th>\n",
              "      <td>2012-05-24 22:44:00.00000088</td>\n",
              "      <td>5.3</td>\n",
              "      <td>2012-05-24 22:44:00 UTC</td>\n",
              "      <td>-73.989188</td>\n",
              "      <td>91.266667</td>\n",
              "      <td>-73.982362</td>\n",
              "      <td>40.763105</td>\n",
              "      <td>1</td>\n",
              "    </tr>\n",
              "    <tr>\n",
              "      <th>970268</th>\n",
              "      <td>2012-04-12 07:31:00.00000027</td>\n",
              "      <td>5.7</td>\n",
              "      <td>2012-04-12 07:31:00 UTC</td>\n",
              "      <td>-73.957087</td>\n",
              "      <td>424.083332</td>\n",
              "      <td>-73.968312</td>\n",
              "      <td>40.765117</td>\n",
              "      <td>1</td>\n",
              "    </tr>\n",
              "  </tbody>\n",
              "</table>\n",
              "</div>"
            ],
            "text/plain": [
              "                                  key  ...  passenger_count\n",
              "5686     2011-07-30 11:15:00.00000082  ...                1\n",
              "174356   2011-11-21 21:36:00.00000081  ...                1\n",
              "272439   2011-04-23 02:55:00.00000012  ...                1\n",
              "464025    2012-03-05 20:58:00.0000009  ...                1\n",
              "505229    2012-03-05 21:08:00.0000006  ...                1\n",
              "505583  2012-03-16 08:13:00.000000272  ...                1\n",
              "688685  2012-03-22 21:40:00.000000188  ...                1\n",
              "708059   2012-05-24 22:44:00.00000088  ...                1\n",
              "970268   2012-04-12 07:31:00.00000027  ...                1\n",
              "\n",
              "[9 rows x 8 columns]"
            ]
          },
          "metadata": {},
          "execution_count": 215
        }
      ]
    },
    {
      "cell_type": "code",
      "metadata": {
        "id": "O1vhwNGGb-1e"
      },
      "source": [
        "#we need to drop these outliers\n",
        "train = train.drop(train[train['pickup_latitude']<-90].index , axis =0 )\n",
        "train = train.drop(train[train['pickup_latitude']>90].index , axis =0 )"
      ],
      "execution_count": 216,
      "outputs": []
    },
    {
      "cell_type": "code",
      "metadata": {
        "id": "ueoSMyvgdCob",
        "colab": {
          "base_uri": "https://localhost:8080/"
        },
        "outputId": "5fb06c4f-69ba-4f7c-bf7c-b71389e0c05d"
      },
      "source": [
        "#12 rows dropped\n",
        "train.shape"
      ],
      "execution_count": 217,
      "outputs": [
        {
          "output_type": "execute_result",
          "data": {
            "text/plain": [
              "(999939, 8)"
            ]
          },
          "metadata": {},
          "execution_count": 217
        }
      ]
    },
    {
      "cell_type": "code",
      "metadata": {
        "id": "1H96OIaVe1Hh",
        "colab": {
          "base_uri": "https://localhost:8080/"
        },
        "outputId": "aec96fd2-c7c1-4877-c41d-d650003a5592"
      },
      "source": [
        "train['pickup_longitude'].describe()"
      ],
      "execution_count": 218,
      "outputs": [
        {
          "output_type": "execute_result",
          "data": {
            "text/plain": [
              "count    999939.000000\n",
              "mean        -72.525443\n",
              "std          10.692752\n",
              "min       -1452.988333\n",
              "25%         -73.992060\n",
              "50%         -73.981792\n",
              "75%         -73.967095\n",
              "max          40.850357\n",
              "Name: pickup_longitude, dtype: float64"
            ]
          },
          "metadata": {},
          "execution_count": 218
        }
      ]
    },
    {
      "cell_type": "code",
      "metadata": {
        "id": "GxiUTMf5fJvH",
        "colab": {
          "base_uri": "https://localhost:8080/",
          "height": 597
        },
        "outputId": "a38a2d42-d07b-489c-d8b4-b1ecaa1d1a53"
      },
      "source": [
        "train[train['pickup_longitude']<-180]"
      ],
      "execution_count": 219,
      "outputs": [
        {
          "output_type": "execute_result",
          "data": {
            "text/html": [
              "<div>\n",
              "<style scoped>\n",
              "    .dataframe tbody tr th:only-of-type {\n",
              "        vertical-align: middle;\n",
              "    }\n",
              "\n",
              "    .dataframe tbody tr th {\n",
              "        vertical-align: top;\n",
              "    }\n",
              "\n",
              "    .dataframe thead th {\n",
              "        text-align: right;\n",
              "    }\n",
              "</style>\n",
              "<table border=\"1\" class=\"dataframe\">\n",
              "  <thead>\n",
              "    <tr style=\"text-align: right;\">\n",
              "      <th></th>\n",
              "      <th>key</th>\n",
              "      <th>fare_amount</th>\n",
              "      <th>pickup_datetime</th>\n",
              "      <th>pickup_longitude</th>\n",
              "      <th>pickup_latitude</th>\n",
              "      <th>dropoff_longitude</th>\n",
              "      <th>dropoff_latitude</th>\n",
              "      <th>passenger_count</th>\n",
              "    </tr>\n",
              "  </thead>\n",
              "  <tbody>\n",
              "    <tr>\n",
              "      <th>60442</th>\n",
              "      <td>2012-01-12 13:36:00.000000186</td>\n",
              "      <td>4.9</td>\n",
              "      <td>2012-01-12 13:36:00 UTC</td>\n",
              "      <td>-736.550000</td>\n",
              "      <td>40.738230</td>\n",
              "      <td>-73.988742</td>\n",
              "      <td>40.748847</td>\n",
              "      <td>1</td>\n",
              "    </tr>\n",
              "    <tr>\n",
              "      <th>217355</th>\n",
              "      <td>2012-06-03 23:21:00.00000077</td>\n",
              "      <td>6.1</td>\n",
              "      <td>2012-06-03 23:21:00 UTC</td>\n",
              "      <td>-740.000000</td>\n",
              "      <td>40.747620</td>\n",
              "      <td>0.000000</td>\n",
              "      <td>0.000000</td>\n",
              "      <td>6</td>\n",
              "    </tr>\n",
              "    <tr>\n",
              "      <th>243342</th>\n",
              "      <td>2012-08-02 10:38:00.000000111</td>\n",
              "      <td>7.3</td>\n",
              "      <td>2012-08-02 10:38:00 UTC</td>\n",
              "      <td>-736.333333</td>\n",
              "      <td>40.766480</td>\n",
              "      <td>-73.987928</td>\n",
              "      <td>40.751742</td>\n",
              "      <td>3</td>\n",
              "    </tr>\n",
              "    <tr>\n",
              "      <th>351119</th>\n",
              "      <td>2012-02-03 07:53:00.000000135</td>\n",
              "      <td>4.1</td>\n",
              "      <td>2012-02-03 07:53:00 UTC</td>\n",
              "      <td>-736.483332</td>\n",
              "      <td>40.766512</td>\n",
              "      <td>-73.981992</td>\n",
              "      <td>40.771672</td>\n",
              "      <td>1</td>\n",
              "    </tr>\n",
              "    <tr>\n",
              "      <th>370663</th>\n",
              "      <td>2012-05-04 23:19:00.000000261</td>\n",
              "      <td>6.1</td>\n",
              "      <td>2012-05-04 23:19:00 UTC</td>\n",
              "      <td>-736.516667</td>\n",
              "      <td>40.719095</td>\n",
              "      <td>-74.003952</td>\n",
              "      <td>40.729860</td>\n",
              "      <td>1</td>\n",
              "    </tr>\n",
              "    <tr>\n",
              "      <th>416859</th>\n",
              "      <td>2012-07-21 15:23:00.00000093</td>\n",
              "      <td>6.5</td>\n",
              "      <td>2012-07-21 15:23:00 UTC</td>\n",
              "      <td>-736.416665</td>\n",
              "      <td>40.752285</td>\n",
              "      <td>-73.992565</td>\n",
              "      <td>40.742687</td>\n",
              "      <td>1</td>\n",
              "    </tr>\n",
              "    <tr>\n",
              "      <th>568830</th>\n",
              "      <td>2013-05-23 15:23:00.0000007</td>\n",
              "      <td>11.5</td>\n",
              "      <td>2013-05-23 15:23:00 UTC</td>\n",
              "      <td>-735.888333</td>\n",
              "      <td>40.760863</td>\n",
              "      <td>-73.989835</td>\n",
              "      <td>40.738443</td>\n",
              "      <td>5</td>\n",
              "    </tr>\n",
              "    <tr>\n",
              "      <th>675500</th>\n",
              "      <td>2011-10-28 10:53:00.00000080</td>\n",
              "      <td>16.9</td>\n",
              "      <td>2011-10-28 10:53:00 UTC</td>\n",
              "      <td>-1452.988333</td>\n",
              "      <td>40.776000</td>\n",
              "      <td>-73.989487</td>\n",
              "      <td>40.740667</td>\n",
              "      <td>2</td>\n",
              "    </tr>\n",
              "    <tr>\n",
              "      <th>837619</th>\n",
              "      <td>2012-07-17 08:38:00.000000116</td>\n",
              "      <td>39.7</td>\n",
              "      <td>2012-07-17 08:38:00 UTC</td>\n",
              "      <td>-736.000000</td>\n",
              "      <td>40.758507</td>\n",
              "      <td>0.000000</td>\n",
              "      <td>0.000000</td>\n",
              "      <td>5</td>\n",
              "    </tr>\n",
              "    <tr>\n",
              "      <th>914435</th>\n",
              "      <td>2012-03-04 00:10:00.000000131</td>\n",
              "      <td>11.7</td>\n",
              "      <td>2012-03-04 00:10:00 UTC</td>\n",
              "      <td>-736.250000</td>\n",
              "      <td>40.788027</td>\n",
              "      <td>-73.990812</td>\n",
              "      <td>40.750942</td>\n",
              "      <td>1</td>\n",
              "    </tr>\n",
              "    <tr>\n",
              "      <th>921758</th>\n",
              "      <td>2012-05-21 10:57:00.00000084</td>\n",
              "      <td>10.1</td>\n",
              "      <td>2012-05-21 10:57:00 UTC</td>\n",
              "      <td>-736.650000</td>\n",
              "      <td>40.761075</td>\n",
              "      <td>0.000000</td>\n",
              "      <td>0.000000</td>\n",
              "      <td>1</td>\n",
              "    </tr>\n",
              "  </tbody>\n",
              "</table>\n",
              "</div>"
            ],
            "text/plain": [
              "                                  key  ...  passenger_count\n",
              "60442   2012-01-12 13:36:00.000000186  ...                1\n",
              "217355   2012-06-03 23:21:00.00000077  ...                6\n",
              "243342  2012-08-02 10:38:00.000000111  ...                3\n",
              "351119  2012-02-03 07:53:00.000000135  ...                1\n",
              "370663  2012-05-04 23:19:00.000000261  ...                1\n",
              "416859   2012-07-21 15:23:00.00000093  ...                1\n",
              "568830    2013-05-23 15:23:00.0000007  ...                5\n",
              "675500   2011-10-28 10:53:00.00000080  ...                2\n",
              "837619  2012-07-17 08:38:00.000000116  ...                5\n",
              "914435  2012-03-04 00:10:00.000000131  ...                1\n",
              "921758   2012-05-21 10:57:00.00000084  ...                1\n",
              "\n",
              "[11 rows x 8 columns]"
            ]
          },
          "metadata": {},
          "execution_count": 219
        }
      ]
    },
    {
      "cell_type": "code",
      "metadata": {
        "id": "s2_LqG_2fS7u",
        "colab": {
          "base_uri": "https://localhost:8080/",
          "height": 49
        },
        "outputId": "fd529ad4-ebbe-4a76-d069-6eb03c41c705"
      },
      "source": [
        "train[train['pickup_longitude']>180]"
      ],
      "execution_count": 220,
      "outputs": [
        {
          "output_type": "execute_result",
          "data": {
            "text/html": [
              "<div>\n",
              "<style scoped>\n",
              "    .dataframe tbody tr th:only-of-type {\n",
              "        vertical-align: middle;\n",
              "    }\n",
              "\n",
              "    .dataframe tbody tr th {\n",
              "        vertical-align: top;\n",
              "    }\n",
              "\n",
              "    .dataframe thead th {\n",
              "        text-align: right;\n",
              "    }\n",
              "</style>\n",
              "<table border=\"1\" class=\"dataframe\">\n",
              "  <thead>\n",
              "    <tr style=\"text-align: right;\">\n",
              "      <th></th>\n",
              "      <th>key</th>\n",
              "      <th>fare_amount</th>\n",
              "      <th>pickup_datetime</th>\n",
              "      <th>pickup_longitude</th>\n",
              "      <th>pickup_latitude</th>\n",
              "      <th>dropoff_longitude</th>\n",
              "      <th>dropoff_latitude</th>\n",
              "      <th>passenger_count</th>\n",
              "    </tr>\n",
              "  </thead>\n",
              "  <tbody>\n",
              "  </tbody>\n",
              "</table>\n",
              "</div>"
            ],
            "text/plain": [
              "Empty DataFrame\n",
              "Columns: [key, fare_amount, pickup_datetime, pickup_longitude, pickup_latitude, dropoff_longitude, dropoff_latitude, passenger_count]\n",
              "Index: []"
            ]
          },
          "metadata": {},
          "execution_count": 220
        }
      ]
    },
    {
      "cell_type": "code",
      "metadata": {
        "id": "WFnxep4KfZzD"
      },
      "source": [
        "train = train.drop(train[train['pickup_longitude']<-180].index , axis =0 )\n",
        "train = train.drop(train[train['pickup_longitude']>180].index , axis =0 )"
      ],
      "execution_count": 221,
      "outputs": []
    },
    {
      "cell_type": "code",
      "metadata": {
        "id": "hqP3OTh6fc44",
        "colab": {
          "base_uri": "https://localhost:8080/"
        },
        "outputId": "5cec7011-0166-4b2d-8261-66e884d41314"
      },
      "source": [
        "#11 rows dropped\n",
        "train.shape"
      ],
      "execution_count": 222,
      "outputs": [
        {
          "output_type": "execute_result",
          "data": {
            "text/plain": [
              "(999928, 8)"
            ]
          },
          "metadata": {},
          "execution_count": 222
        }
      ]
    },
    {
      "cell_type": "code",
      "metadata": {
        "id": "4MpIxE5Kf91p",
        "colab": {
          "base_uri": "https://localhost:8080/"
        },
        "outputId": "24b0fbc7-e672-455b-a191-264784c16be1"
      },
      "source": [
        "train.dtypes"
      ],
      "execution_count": 223,
      "outputs": [
        {
          "output_type": "execute_result",
          "data": {
            "text/plain": [
              "key                   object\n",
              "fare_amount          float64\n",
              "pickup_datetime       object\n",
              "pickup_longitude     float64\n",
              "pickup_latitude      float64\n",
              "dropoff_longitude    float64\n",
              "dropoff_latitude     float64\n",
              "passenger_count        int64\n",
              "dtype: object"
            ]
          },
          "metadata": {},
          "execution_count": 223
        }
      ]
    },
    {
      "cell_type": "code",
      "metadata": {
        "id": "2GEIjHmD5sHx"
      },
      "source": [
        "train = train.drop(train[train['dropoff_latitude']<-90].index , axis = 0)\n",
        "train = train.drop(train[train['dropoff_latitude']>90].index , axis = 0)"
      ],
      "execution_count": 224,
      "outputs": []
    },
    {
      "cell_type": "code",
      "metadata": {
        "id": "-1Wv_Kiojd-g"
      },
      "source": [
        "#key and pickup_datetime ssem to be datetime columns which are in object format.Let's convert them to datetime\n",
        "\n",
        "train['key'] = pd.to_datetime(train['key'])\n",
        "\n",
        "train['pickup_datetime'] = pd.to_datetime(train['pickup_datetime'])"
      ],
      "execution_count": 225,
      "outputs": []
    },
    {
      "cell_type": "code",
      "metadata": {
        "id": "OzYrjfVTkLP9"
      },
      "source": [
        "#convert for test data\n",
        "test['key'] = pd.to_datetime(test['key'])\n",
        "\n",
        "test['pickup_datetime'] = pd.to_datetime(test['pickup_datetime'])"
      ],
      "execution_count": 226,
      "outputs": []
    },
    {
      "cell_type": "code",
      "metadata": {
        "id": "ScO8gYqLlQcs",
        "colab": {
          "base_uri": "https://localhost:8080/"
        },
        "outputId": "ffe7fb47-edf6-4740-bbd4-10a2cb89dd93"
      },
      "source": [
        "train.dtypes"
      ],
      "execution_count": 227,
      "outputs": [
        {
          "output_type": "execute_result",
          "data": {
            "text/plain": [
              "key                       datetime64[ns]\n",
              "fare_amount                      float64\n",
              "pickup_datetime      datetime64[ns, UTC]\n",
              "pickup_longitude                 float64\n",
              "pickup_latitude                  float64\n",
              "dropoff_longitude                float64\n",
              "dropoff_latitude                 float64\n",
              "passenger_count                    int64\n",
              "dtype: object"
            ]
          },
          "metadata": {},
          "execution_count": 227
        }
      ]
    },
    {
      "cell_type": "code",
      "metadata": {
        "id": "sPL2jhq4nrAf",
        "colab": {
          "base_uri": "https://localhost:8080/",
          "height": 309
        },
        "outputId": "21784d9e-e47d-4d20-93fa-c23694518d29"
      },
      "source": [
        "train.head()"
      ],
      "execution_count": 228,
      "outputs": [
        {
          "output_type": "execute_result",
          "data": {
            "text/html": [
              "<div>\n",
              "<style scoped>\n",
              "    .dataframe tbody tr th:only-of-type {\n",
              "        vertical-align: middle;\n",
              "    }\n",
              "\n",
              "    .dataframe tbody tr th {\n",
              "        vertical-align: top;\n",
              "    }\n",
              "\n",
              "    .dataframe thead th {\n",
              "        text-align: right;\n",
              "    }\n",
              "</style>\n",
              "<table border=\"1\" class=\"dataframe\">\n",
              "  <thead>\n",
              "    <tr style=\"text-align: right;\">\n",
              "      <th></th>\n",
              "      <th>key</th>\n",
              "      <th>fare_amount</th>\n",
              "      <th>pickup_datetime</th>\n",
              "      <th>pickup_longitude</th>\n",
              "      <th>pickup_latitude</th>\n",
              "      <th>dropoff_longitude</th>\n",
              "      <th>dropoff_latitude</th>\n",
              "      <th>passenger_count</th>\n",
              "    </tr>\n",
              "  </thead>\n",
              "  <tbody>\n",
              "    <tr>\n",
              "      <th>0</th>\n",
              "      <td>2009-06-15 17:26:21.000000100</td>\n",
              "      <td>4.5</td>\n",
              "      <td>2009-06-15 17:26:21+00:00</td>\n",
              "      <td>-73.844311</td>\n",
              "      <td>40.721319</td>\n",
              "      <td>-73.841610</td>\n",
              "      <td>40.712278</td>\n",
              "      <td>1</td>\n",
              "    </tr>\n",
              "    <tr>\n",
              "      <th>1</th>\n",
              "      <td>2010-01-05 16:52:16.000000200</td>\n",
              "      <td>16.9</td>\n",
              "      <td>2010-01-05 16:52:16+00:00</td>\n",
              "      <td>-74.016048</td>\n",
              "      <td>40.711303</td>\n",
              "      <td>-73.979268</td>\n",
              "      <td>40.782004</td>\n",
              "      <td>1</td>\n",
              "    </tr>\n",
              "    <tr>\n",
              "      <th>2</th>\n",
              "      <td>2011-08-18 00:35:00.000000490</td>\n",
              "      <td>5.7</td>\n",
              "      <td>2011-08-18 00:35:00+00:00</td>\n",
              "      <td>-73.982738</td>\n",
              "      <td>40.761270</td>\n",
              "      <td>-73.991242</td>\n",
              "      <td>40.750562</td>\n",
              "      <td>2</td>\n",
              "    </tr>\n",
              "    <tr>\n",
              "      <th>3</th>\n",
              "      <td>2012-04-21 04:30:42.000000100</td>\n",
              "      <td>7.7</td>\n",
              "      <td>2012-04-21 04:30:42+00:00</td>\n",
              "      <td>-73.987130</td>\n",
              "      <td>40.733143</td>\n",
              "      <td>-73.991567</td>\n",
              "      <td>40.758092</td>\n",
              "      <td>1</td>\n",
              "    </tr>\n",
              "    <tr>\n",
              "      <th>4</th>\n",
              "      <td>2010-03-09 07:51:00.000000135</td>\n",
              "      <td>5.3</td>\n",
              "      <td>2010-03-09 07:51:00+00:00</td>\n",
              "      <td>-73.968095</td>\n",
              "      <td>40.768008</td>\n",
              "      <td>-73.956655</td>\n",
              "      <td>40.783762</td>\n",
              "      <td>1</td>\n",
              "    </tr>\n",
              "  </tbody>\n",
              "</table>\n",
              "</div>"
            ],
            "text/plain": [
              "                            key  fare_amount  ... dropoff_latitude  passenger_count\n",
              "0 2009-06-15 17:26:21.000000100          4.5  ...        40.712278                1\n",
              "1 2010-01-05 16:52:16.000000200         16.9  ...        40.782004                1\n",
              "2 2011-08-18 00:35:00.000000490          5.7  ...        40.750562                2\n",
              "3 2012-04-21 04:30:42.000000100          7.7  ...        40.758092                1\n",
              "4 2010-03-09 07:51:00.000000135          5.3  ...        40.783762                1\n",
              "\n",
              "[5 rows x 8 columns]"
            ]
          },
          "metadata": {},
          "execution_count": 228
        }
      ]
    },
    {
      "cell_type": "code",
      "metadata": {
        "id": "QQK-G6PZoKbc",
        "colab": {
          "base_uri": "https://localhost:8080/",
          "height": 289
        },
        "outputId": "3d52cdc1-47ec-4afd-948c-e99432c8a57e"
      },
      "source": [
        "test.head()"
      ],
      "execution_count": 229,
      "outputs": [
        {
          "output_type": "execute_result",
          "data": {
            "text/html": [
              "<div>\n",
              "<style scoped>\n",
              "    .dataframe tbody tr th:only-of-type {\n",
              "        vertical-align: middle;\n",
              "    }\n",
              "\n",
              "    .dataframe tbody tr th {\n",
              "        vertical-align: top;\n",
              "    }\n",
              "\n",
              "    .dataframe thead th {\n",
              "        text-align: right;\n",
              "    }\n",
              "</style>\n",
              "<table border=\"1\" class=\"dataframe\">\n",
              "  <thead>\n",
              "    <tr style=\"text-align: right;\">\n",
              "      <th></th>\n",
              "      <th>key</th>\n",
              "      <th>pickup_datetime</th>\n",
              "      <th>pickup_longitude</th>\n",
              "      <th>pickup_latitude</th>\n",
              "      <th>dropoff_longitude</th>\n",
              "      <th>dropoff_latitude</th>\n",
              "      <th>passenger_count</th>\n",
              "    </tr>\n",
              "  </thead>\n",
              "  <tbody>\n",
              "    <tr>\n",
              "      <th>0</th>\n",
              "      <td>2015-01-27 13:08:24.000000200</td>\n",
              "      <td>2015-01-27 13:08:24+00:00</td>\n",
              "      <td>-73.973320</td>\n",
              "      <td>40.763805</td>\n",
              "      <td>-73.981430</td>\n",
              "      <td>40.743835</td>\n",
              "      <td>1</td>\n",
              "    </tr>\n",
              "    <tr>\n",
              "      <th>1</th>\n",
              "      <td>2015-01-27 13:08:24.000000300</td>\n",
              "      <td>2015-01-27 13:08:24+00:00</td>\n",
              "      <td>-73.986862</td>\n",
              "      <td>40.719383</td>\n",
              "      <td>-73.998886</td>\n",
              "      <td>40.739201</td>\n",
              "      <td>1</td>\n",
              "    </tr>\n",
              "    <tr>\n",
              "      <th>2</th>\n",
              "      <td>2011-10-08 11:53:44.000000200</td>\n",
              "      <td>2011-10-08 11:53:44+00:00</td>\n",
              "      <td>-73.982524</td>\n",
              "      <td>40.751260</td>\n",
              "      <td>-73.979654</td>\n",
              "      <td>40.746139</td>\n",
              "      <td>1</td>\n",
              "    </tr>\n",
              "    <tr>\n",
              "      <th>3</th>\n",
              "      <td>2012-12-01 21:12:12.000000200</td>\n",
              "      <td>2012-12-01 21:12:12+00:00</td>\n",
              "      <td>-73.981160</td>\n",
              "      <td>40.767807</td>\n",
              "      <td>-73.990448</td>\n",
              "      <td>40.751635</td>\n",
              "      <td>1</td>\n",
              "    </tr>\n",
              "    <tr>\n",
              "      <th>4</th>\n",
              "      <td>2012-12-01 21:12:12.000000300</td>\n",
              "      <td>2012-12-01 21:12:12+00:00</td>\n",
              "      <td>-73.966046</td>\n",
              "      <td>40.789775</td>\n",
              "      <td>-73.988565</td>\n",
              "      <td>40.744427</td>\n",
              "      <td>1</td>\n",
              "    </tr>\n",
              "  </tbody>\n",
              "</table>\n",
              "</div>"
            ],
            "text/plain": [
              "                            key  ... passenger_count\n",
              "0 2015-01-27 13:08:24.000000200  ...               1\n",
              "1 2015-01-27 13:08:24.000000300  ...               1\n",
              "2 2011-10-08 11:53:44.000000200  ...               1\n",
              "3 2012-12-01 21:12:12.000000200  ...               1\n",
              "4 2012-12-01 21:12:12.000000300  ...               1\n",
              "\n",
              "[5 rows x 7 columns]"
            ]
          },
          "metadata": {},
          "execution_count": 229
        }
      ]
    },
    {
      "cell_type": "code",
      "metadata": {
        "id": "Gc0fjNVaoRM-",
        "colab": {
          "base_uri": "https://localhost:8080/"
        },
        "outputId": "06405331-ee3e-4bec-dae2-658096c27920"
      },
      "source": [
        "#new field 'distance' to fetch the distance between the pickup and the drop\n",
        "def haversine_distance(lat1, long1, lat2, long2):\n",
        "    data = [train, test]\n",
        "    for i in data:\n",
        "        R = 6371  #radius of earth in kilometers\n",
        "        #R = 3959 #radius of earth in miles\n",
        "        phi1 = np.radians(i[lat1])\n",
        "        phi2 = np.radians(i[lat2])\n",
        "    \n",
        "        delta_phi = np.radians(i[lat2]-i[lat1])\n",
        "        delta_lambda = np.radians(i[long2]-i[long1])\n",
        "    \n",
        "        #a = sin²((φB - φA)/2) + cos φA . cos φB . sin²((λB - λA)/2)\n",
        "        a = np.sin(delta_phi / 2.0) ** 2 + np.cos(phi1) * np.cos(phi2) * np.sin(delta_lambda / 2.0) ** 2\n",
        "    \n",
        "        #c = 2 * atan2( √a, √(1−a) )\n",
        "        c = 2 * np.arctan2(np.sqrt(a), np.sqrt(1-a))\n",
        "    \n",
        "        #d = R*c\n",
        "        d = (R * c) #in kilometers\n",
        "        i['H_Distance'] = d\n",
        "    return d\n",
        "haversine_distance('pickup_latitude', 'pickup_longitude', 'dropoff_latitude', 'dropoff_longitude')"
      ],
      "execution_count": 230,
      "outputs": [
        {
          "output_type": "execute_result",
          "data": {
            "text/plain": [
              "0        2.323260\n",
              "1        2.425353\n",
              "2        0.618628\n",
              "3        1.961033\n",
              "4        5.387301\n",
              "          ...    \n",
              "9909     2.124874\n",
              "9910     3.270969\n",
              "9911    19.183941\n",
              "9912     8.343486\n",
              "9913     1.180825\n",
              "Length: 9914, dtype: float64"
            ]
          },
          "metadata": {},
          "execution_count": 230
        }
      ]
    },
    {
      "cell_type": "code",
      "metadata": {
        "id": "8aQQ3jKHqtuP",
        "colab": {
          "base_uri": "https://localhost:8080/"
        },
        "outputId": "0d0c9e6b-b687-46e9-c9f0-422379bd080d"
      },
      "source": [
        "train['H_Distance'].head(10)"
      ],
      "execution_count": 231,
      "outputs": [
        {
          "output_type": "execute_result",
          "data": {
            "text/plain": [
              "0    1.030764\n",
              "1    8.450134\n",
              "2    1.389525\n",
              "3    2.799270\n",
              "4    1.999157\n",
              "5    3.787239\n",
              "6    1.555807\n",
              "7    4.155444\n",
              "8    1.253232\n",
              "9    2.849627\n",
              "Name: H_Distance, dtype: float64"
            ]
          },
          "metadata": {},
          "execution_count": 231
        }
      ]
    },
    {
      "cell_type": "code",
      "metadata": {
        "id": "7cNVcR2vq6yp",
        "colab": {
          "base_uri": "https://localhost:8080/"
        },
        "outputId": "4d303332-cf6f-435d-cbda-ec2ea653bc85"
      },
      "source": [
        "test['H_Distance'].head(10)"
      ],
      "execution_count": 232,
      "outputs": [
        {
          "output_type": "execute_result",
          "data": {
            "text/plain": [
              "0     2.323260\n",
              "1     2.425353\n",
              "2     0.618628\n",
              "3     1.961033\n",
              "4     5.387301\n",
              "5     3.222549\n",
              "6     0.929601\n",
              "7    21.540102\n",
              "8     3.873962\n",
              "9     1.099794\n",
              "Name: H_Distance, dtype: float64"
            ]
          },
          "metadata": {},
          "execution_count": 232
        }
      ]
    },
    {
      "cell_type": "code",
      "metadata": {
        "id": "8kX6KlGXq89R",
        "colab": {
          "base_uri": "https://localhost:8080/",
          "height": 309
        },
        "outputId": "22ddf800-ca23-4a3c-b841-d9b7402dffa8"
      },
      "source": [
        "train.head()"
      ],
      "execution_count": 233,
      "outputs": [
        {
          "output_type": "execute_result",
          "data": {
            "text/html": [
              "<div>\n",
              "<style scoped>\n",
              "    .dataframe tbody tr th:only-of-type {\n",
              "        vertical-align: middle;\n",
              "    }\n",
              "\n",
              "    .dataframe tbody tr th {\n",
              "        vertical-align: top;\n",
              "    }\n",
              "\n",
              "    .dataframe thead th {\n",
              "        text-align: right;\n",
              "    }\n",
              "</style>\n",
              "<table border=\"1\" class=\"dataframe\">\n",
              "  <thead>\n",
              "    <tr style=\"text-align: right;\">\n",
              "      <th></th>\n",
              "      <th>key</th>\n",
              "      <th>fare_amount</th>\n",
              "      <th>pickup_datetime</th>\n",
              "      <th>pickup_longitude</th>\n",
              "      <th>pickup_latitude</th>\n",
              "      <th>dropoff_longitude</th>\n",
              "      <th>dropoff_latitude</th>\n",
              "      <th>passenger_count</th>\n",
              "      <th>H_Distance</th>\n",
              "    </tr>\n",
              "  </thead>\n",
              "  <tbody>\n",
              "    <tr>\n",
              "      <th>0</th>\n",
              "      <td>2009-06-15 17:26:21.000000100</td>\n",
              "      <td>4.5</td>\n",
              "      <td>2009-06-15 17:26:21+00:00</td>\n",
              "      <td>-73.844311</td>\n",
              "      <td>40.721319</td>\n",
              "      <td>-73.841610</td>\n",
              "      <td>40.712278</td>\n",
              "      <td>1</td>\n",
              "      <td>1.030764</td>\n",
              "    </tr>\n",
              "    <tr>\n",
              "      <th>1</th>\n",
              "      <td>2010-01-05 16:52:16.000000200</td>\n",
              "      <td>16.9</td>\n",
              "      <td>2010-01-05 16:52:16+00:00</td>\n",
              "      <td>-74.016048</td>\n",
              "      <td>40.711303</td>\n",
              "      <td>-73.979268</td>\n",
              "      <td>40.782004</td>\n",
              "      <td>1</td>\n",
              "      <td>8.450134</td>\n",
              "    </tr>\n",
              "    <tr>\n",
              "      <th>2</th>\n",
              "      <td>2011-08-18 00:35:00.000000490</td>\n",
              "      <td>5.7</td>\n",
              "      <td>2011-08-18 00:35:00+00:00</td>\n",
              "      <td>-73.982738</td>\n",
              "      <td>40.761270</td>\n",
              "      <td>-73.991242</td>\n",
              "      <td>40.750562</td>\n",
              "      <td>2</td>\n",
              "      <td>1.389525</td>\n",
              "    </tr>\n",
              "    <tr>\n",
              "      <th>3</th>\n",
              "      <td>2012-04-21 04:30:42.000000100</td>\n",
              "      <td>7.7</td>\n",
              "      <td>2012-04-21 04:30:42+00:00</td>\n",
              "      <td>-73.987130</td>\n",
              "      <td>40.733143</td>\n",
              "      <td>-73.991567</td>\n",
              "      <td>40.758092</td>\n",
              "      <td>1</td>\n",
              "      <td>2.799270</td>\n",
              "    </tr>\n",
              "    <tr>\n",
              "      <th>4</th>\n",
              "      <td>2010-03-09 07:51:00.000000135</td>\n",
              "      <td>5.3</td>\n",
              "      <td>2010-03-09 07:51:00+00:00</td>\n",
              "      <td>-73.968095</td>\n",
              "      <td>40.768008</td>\n",
              "      <td>-73.956655</td>\n",
              "      <td>40.783762</td>\n",
              "      <td>1</td>\n",
              "      <td>1.999157</td>\n",
              "    </tr>\n",
              "  </tbody>\n",
              "</table>\n",
              "</div>"
            ],
            "text/plain": [
              "                            key  fare_amount  ... passenger_count  H_Distance\n",
              "0 2009-06-15 17:26:21.000000100          4.5  ...               1    1.030764\n",
              "1 2010-01-05 16:52:16.000000200         16.9  ...               1    8.450134\n",
              "2 2011-08-18 00:35:00.000000490          5.7  ...               2    1.389525\n",
              "3 2012-04-21 04:30:42.000000100          7.7  ...               1    2.799270\n",
              "4 2010-03-09 07:51:00.000000135          5.3  ...               1    1.999157\n",
              "\n",
              "[5 rows x 9 columns]"
            ]
          },
          "metadata": {},
          "execution_count": 233
        }
      ]
    },
    {
      "cell_type": "code",
      "metadata": {
        "id": "-4S5tVhStMvf"
      },
      "source": [
        "data = [train , test]\n",
        "for i in data : \n",
        "  i['Year'] = i['pickup_datetime'].dt.year\n",
        "  i['Month'] = i['pickup_datetime'].dt.month\n",
        "  i['Date'] = i['pickup_datetime'].dt.day\n",
        "  i['Day of Week'] = i['pickup_datetime'].dt.dayofweek\n",
        "  i['Hour'] = i['pickup_datetime'].dt.hour"
      ],
      "execution_count": 234,
      "outputs": []
    },
    {
      "cell_type": "code",
      "metadata": {
        "id": "eNkK6DPstAoy",
        "colab": {
          "base_uri": "https://localhost:8080/",
          "height": 643
        },
        "outputId": "71a46eab-0142-4afd-e369-8d0bcd47df69"
      },
      "source": [
        "train.head(-5)"
      ],
      "execution_count": 235,
      "outputs": [
        {
          "output_type": "execute_result",
          "data": {
            "text/html": [
              "<div>\n",
              "<style scoped>\n",
              "    .dataframe tbody tr th:only-of-type {\n",
              "        vertical-align: middle;\n",
              "    }\n",
              "\n",
              "    .dataframe tbody tr th {\n",
              "        vertical-align: top;\n",
              "    }\n",
              "\n",
              "    .dataframe thead th {\n",
              "        text-align: right;\n",
              "    }\n",
              "</style>\n",
              "<table border=\"1\" class=\"dataframe\">\n",
              "  <thead>\n",
              "    <tr style=\"text-align: right;\">\n",
              "      <th></th>\n",
              "      <th>key</th>\n",
              "      <th>fare_amount</th>\n",
              "      <th>pickup_datetime</th>\n",
              "      <th>pickup_longitude</th>\n",
              "      <th>pickup_latitude</th>\n",
              "      <th>dropoff_longitude</th>\n",
              "      <th>dropoff_latitude</th>\n",
              "      <th>passenger_count</th>\n",
              "      <th>H_Distance</th>\n",
              "      <th>Year</th>\n",
              "      <th>Month</th>\n",
              "      <th>Date</th>\n",
              "      <th>Day of Week</th>\n",
              "      <th>Hour</th>\n",
              "    </tr>\n",
              "  </thead>\n",
              "  <tbody>\n",
              "    <tr>\n",
              "      <th>0</th>\n",
              "      <td>2009-06-15 17:26:21.000000100</td>\n",
              "      <td>4.5</td>\n",
              "      <td>2009-06-15 17:26:21+00:00</td>\n",
              "      <td>-73.844311</td>\n",
              "      <td>40.721319</td>\n",
              "      <td>-73.841610</td>\n",
              "      <td>40.712278</td>\n",
              "      <td>1</td>\n",
              "      <td>1.030764</td>\n",
              "      <td>2009</td>\n",
              "      <td>6</td>\n",
              "      <td>15</td>\n",
              "      <td>0</td>\n",
              "      <td>17</td>\n",
              "    </tr>\n",
              "    <tr>\n",
              "      <th>1</th>\n",
              "      <td>2010-01-05 16:52:16.000000200</td>\n",
              "      <td>16.9</td>\n",
              "      <td>2010-01-05 16:52:16+00:00</td>\n",
              "      <td>-74.016048</td>\n",
              "      <td>40.711303</td>\n",
              "      <td>-73.979268</td>\n",
              "      <td>40.782004</td>\n",
              "      <td>1</td>\n",
              "      <td>8.450134</td>\n",
              "      <td>2010</td>\n",
              "      <td>1</td>\n",
              "      <td>5</td>\n",
              "      <td>1</td>\n",
              "      <td>16</td>\n",
              "    </tr>\n",
              "    <tr>\n",
              "      <th>2</th>\n",
              "      <td>2011-08-18 00:35:00.000000490</td>\n",
              "      <td>5.7</td>\n",
              "      <td>2011-08-18 00:35:00+00:00</td>\n",
              "      <td>-73.982738</td>\n",
              "      <td>40.761270</td>\n",
              "      <td>-73.991242</td>\n",
              "      <td>40.750562</td>\n",
              "      <td>2</td>\n",
              "      <td>1.389525</td>\n",
              "      <td>2011</td>\n",
              "      <td>8</td>\n",
              "      <td>18</td>\n",
              "      <td>3</td>\n",
              "      <td>0</td>\n",
              "    </tr>\n",
              "    <tr>\n",
              "      <th>3</th>\n",
              "      <td>2012-04-21 04:30:42.000000100</td>\n",
              "      <td>7.7</td>\n",
              "      <td>2012-04-21 04:30:42+00:00</td>\n",
              "      <td>-73.987130</td>\n",
              "      <td>40.733143</td>\n",
              "      <td>-73.991567</td>\n",
              "      <td>40.758092</td>\n",
              "      <td>1</td>\n",
              "      <td>2.799270</td>\n",
              "      <td>2012</td>\n",
              "      <td>4</td>\n",
              "      <td>21</td>\n",
              "      <td>5</td>\n",
              "      <td>4</td>\n",
              "    </tr>\n",
              "    <tr>\n",
              "      <th>4</th>\n",
              "      <td>2010-03-09 07:51:00.000000135</td>\n",
              "      <td>5.3</td>\n",
              "      <td>2010-03-09 07:51:00+00:00</td>\n",
              "      <td>-73.968095</td>\n",
              "      <td>40.768008</td>\n",
              "      <td>-73.956655</td>\n",
              "      <td>40.783762</td>\n",
              "      <td>1</td>\n",
              "      <td>1.999157</td>\n",
              "      <td>2010</td>\n",
              "      <td>3</td>\n",
              "      <td>9</td>\n",
              "      <td>1</td>\n",
              "      <td>7</td>\n",
              "    </tr>\n",
              "    <tr>\n",
              "      <th>...</th>\n",
              "      <td>...</td>\n",
              "      <td>...</td>\n",
              "      <td>...</td>\n",
              "      <td>...</td>\n",
              "      <td>...</td>\n",
              "      <td>...</td>\n",
              "      <td>...</td>\n",
              "      <td>...</td>\n",
              "      <td>...</td>\n",
              "      <td>...</td>\n",
              "      <td>...</td>\n",
              "      <td>...</td>\n",
              "      <td>...</td>\n",
              "      <td>...</td>\n",
              "    </tr>\n",
              "    <tr>\n",
              "      <th>999990</th>\n",
              "      <td>2009-09-22 16:43:00.000000520</td>\n",
              "      <td>6.1</td>\n",
              "      <td>2009-09-22 16:43:00+00:00</td>\n",
              "      <td>-73.963472</td>\n",
              "      <td>40.774893</td>\n",
              "      <td>-73.980038</td>\n",
              "      <td>40.777478</td>\n",
              "      <td>1</td>\n",
              "      <td>1.424234</td>\n",
              "      <td>2009</td>\n",
              "      <td>9</td>\n",
              "      <td>22</td>\n",
              "      <td>1</td>\n",
              "      <td>16</td>\n",
              "    </tr>\n",
              "    <tr>\n",
              "      <th>999991</th>\n",
              "      <td>2010-04-20 08:17:51.000000400</td>\n",
              "      <td>8.9</td>\n",
              "      <td>2010-04-20 08:17:51+00:00</td>\n",
              "      <td>-73.973683</td>\n",
              "      <td>40.792300</td>\n",
              "      <td>-73.979603</td>\n",
              "      <td>40.765361</td>\n",
              "      <td>1</td>\n",
              "      <td>3.036671</td>\n",
              "      <td>2010</td>\n",
              "      <td>4</td>\n",
              "      <td>20</td>\n",
              "      <td>1</td>\n",
              "      <td>8</td>\n",
              "    </tr>\n",
              "    <tr>\n",
              "      <th>999992</th>\n",
              "      <td>2011-01-21 10:57:27.000000100</td>\n",
              "      <td>5.7</td>\n",
              "      <td>2011-01-21 10:57:27+00:00</td>\n",
              "      <td>-73.976733</td>\n",
              "      <td>40.790480</td>\n",
              "      <td>-73.988215</td>\n",
              "      <td>40.779298</td>\n",
              "      <td>1</td>\n",
              "      <td>1.574966</td>\n",
              "      <td>2011</td>\n",
              "      <td>1</td>\n",
              "      <td>21</td>\n",
              "      <td>4</td>\n",
              "      <td>10</td>\n",
              "    </tr>\n",
              "    <tr>\n",
              "      <th>999993</th>\n",
              "      <td>2012-12-14 11:08:00.000000132</td>\n",
              "      <td>15.0</td>\n",
              "      <td>2012-12-14 11:08:00+00:00</td>\n",
              "      <td>-73.975895</td>\n",
              "      <td>40.728558</td>\n",
              "      <td>-74.002202</td>\n",
              "      <td>40.755675</td>\n",
              "      <td>2</td>\n",
              "      <td>3.742170</td>\n",
              "      <td>2012</td>\n",
              "      <td>12</td>\n",
              "      <td>14</td>\n",
              "      <td>4</td>\n",
              "      <td>11</td>\n",
              "    </tr>\n",
              "    <tr>\n",
              "      <th>999994</th>\n",
              "      <td>2014-06-29 22:57:55.000000100</td>\n",
              "      <td>20.0</td>\n",
              "      <td>2014-06-29 22:57:55+00:00</td>\n",
              "      <td>-73.872919</td>\n",
              "      <td>40.774106</td>\n",
              "      <td>-73.796524</td>\n",
              "      <td>40.775041</td>\n",
              "      <td>2</td>\n",
              "      <td>6.433776</td>\n",
              "      <td>2014</td>\n",
              "      <td>6</td>\n",
              "      <td>29</td>\n",
              "      <td>6</td>\n",
              "      <td>22</td>\n",
              "    </tr>\n",
              "  </tbody>\n",
              "</table>\n",
              "<p>999915 rows × 14 columns</p>\n",
              "</div>"
            ],
            "text/plain": [
              "                                 key  fare_amount  ... Day of Week  Hour\n",
              "0      2009-06-15 17:26:21.000000100          4.5  ...           0    17\n",
              "1      2010-01-05 16:52:16.000000200         16.9  ...           1    16\n",
              "2      2011-08-18 00:35:00.000000490          5.7  ...           3     0\n",
              "3      2012-04-21 04:30:42.000000100          7.7  ...           5     4\n",
              "4      2010-03-09 07:51:00.000000135          5.3  ...           1     7\n",
              "...                              ...          ...  ...         ...   ...\n",
              "999990 2009-09-22 16:43:00.000000520          6.1  ...           1    16\n",
              "999991 2010-04-20 08:17:51.000000400          8.9  ...           1     8\n",
              "999992 2011-01-21 10:57:27.000000100          5.7  ...           4    10\n",
              "999993 2012-12-14 11:08:00.000000132         15.0  ...           4    11\n",
              "999994 2014-06-29 22:57:55.000000100         20.0  ...           6    22\n",
              "\n",
              "[999915 rows x 14 columns]"
            ]
          },
          "metadata": {},
          "execution_count": 235
        }
      ]
    },
    {
      "cell_type": "code",
      "metadata": {
        "id": "nRT8tvdWuAfG",
        "colab": {
          "base_uri": "https://localhost:8080/",
          "height": 343
        },
        "outputId": "c1f42552-b44e-408c-bb3d-67926135cb41"
      },
      "source": [
        "test.head()"
      ],
      "execution_count": 236,
      "outputs": [
        {
          "output_type": "execute_result",
          "data": {
            "text/html": [
              "<div>\n",
              "<style scoped>\n",
              "    .dataframe tbody tr th:only-of-type {\n",
              "        vertical-align: middle;\n",
              "    }\n",
              "\n",
              "    .dataframe tbody tr th {\n",
              "        vertical-align: top;\n",
              "    }\n",
              "\n",
              "    .dataframe thead th {\n",
              "        text-align: right;\n",
              "    }\n",
              "</style>\n",
              "<table border=\"1\" class=\"dataframe\">\n",
              "  <thead>\n",
              "    <tr style=\"text-align: right;\">\n",
              "      <th></th>\n",
              "      <th>key</th>\n",
              "      <th>pickup_datetime</th>\n",
              "      <th>pickup_longitude</th>\n",
              "      <th>pickup_latitude</th>\n",
              "      <th>dropoff_longitude</th>\n",
              "      <th>dropoff_latitude</th>\n",
              "      <th>passenger_count</th>\n",
              "      <th>H_Distance</th>\n",
              "      <th>Year</th>\n",
              "      <th>Month</th>\n",
              "      <th>Date</th>\n",
              "      <th>Day of Week</th>\n",
              "      <th>Hour</th>\n",
              "    </tr>\n",
              "  </thead>\n",
              "  <tbody>\n",
              "    <tr>\n",
              "      <th>0</th>\n",
              "      <td>2015-01-27 13:08:24.000000200</td>\n",
              "      <td>2015-01-27 13:08:24+00:00</td>\n",
              "      <td>-73.973320</td>\n",
              "      <td>40.763805</td>\n",
              "      <td>-73.981430</td>\n",
              "      <td>40.743835</td>\n",
              "      <td>1</td>\n",
              "      <td>2.323260</td>\n",
              "      <td>2015</td>\n",
              "      <td>1</td>\n",
              "      <td>27</td>\n",
              "      <td>1</td>\n",
              "      <td>13</td>\n",
              "    </tr>\n",
              "    <tr>\n",
              "      <th>1</th>\n",
              "      <td>2015-01-27 13:08:24.000000300</td>\n",
              "      <td>2015-01-27 13:08:24+00:00</td>\n",
              "      <td>-73.986862</td>\n",
              "      <td>40.719383</td>\n",
              "      <td>-73.998886</td>\n",
              "      <td>40.739201</td>\n",
              "      <td>1</td>\n",
              "      <td>2.425353</td>\n",
              "      <td>2015</td>\n",
              "      <td>1</td>\n",
              "      <td>27</td>\n",
              "      <td>1</td>\n",
              "      <td>13</td>\n",
              "    </tr>\n",
              "    <tr>\n",
              "      <th>2</th>\n",
              "      <td>2011-10-08 11:53:44.000000200</td>\n",
              "      <td>2011-10-08 11:53:44+00:00</td>\n",
              "      <td>-73.982524</td>\n",
              "      <td>40.751260</td>\n",
              "      <td>-73.979654</td>\n",
              "      <td>40.746139</td>\n",
              "      <td>1</td>\n",
              "      <td>0.618628</td>\n",
              "      <td>2011</td>\n",
              "      <td>10</td>\n",
              "      <td>8</td>\n",
              "      <td>5</td>\n",
              "      <td>11</td>\n",
              "    </tr>\n",
              "    <tr>\n",
              "      <th>3</th>\n",
              "      <td>2012-12-01 21:12:12.000000200</td>\n",
              "      <td>2012-12-01 21:12:12+00:00</td>\n",
              "      <td>-73.981160</td>\n",
              "      <td>40.767807</td>\n",
              "      <td>-73.990448</td>\n",
              "      <td>40.751635</td>\n",
              "      <td>1</td>\n",
              "      <td>1.961033</td>\n",
              "      <td>2012</td>\n",
              "      <td>12</td>\n",
              "      <td>1</td>\n",
              "      <td>5</td>\n",
              "      <td>21</td>\n",
              "    </tr>\n",
              "    <tr>\n",
              "      <th>4</th>\n",
              "      <td>2012-12-01 21:12:12.000000300</td>\n",
              "      <td>2012-12-01 21:12:12+00:00</td>\n",
              "      <td>-73.966046</td>\n",
              "      <td>40.789775</td>\n",
              "      <td>-73.988565</td>\n",
              "      <td>40.744427</td>\n",
              "      <td>1</td>\n",
              "      <td>5.387301</td>\n",
              "      <td>2012</td>\n",
              "      <td>12</td>\n",
              "      <td>1</td>\n",
              "      <td>5</td>\n",
              "      <td>21</td>\n",
              "    </tr>\n",
              "  </tbody>\n",
              "</table>\n",
              "</div>"
            ],
            "text/plain": [
              "                            key           pickup_datetime  ...  Day of Week  Hour\n",
              "0 2015-01-27 13:08:24.000000200 2015-01-27 13:08:24+00:00  ...            1    13\n",
              "1 2015-01-27 13:08:24.000000300 2015-01-27 13:08:24+00:00  ...            1    13\n",
              "2 2011-10-08 11:53:44.000000200 2011-10-08 11:53:44+00:00  ...            5    11\n",
              "3 2012-12-01 21:12:12.000000200 2012-12-01 21:12:12+00:00  ...            5    21\n",
              "4 2012-12-01 21:12:12.000000300 2012-12-01 21:12:12+00:00  ...            5    21\n",
              "\n",
              "[5 rows x 13 columns]"
            ]
          },
          "metadata": {},
          "execution_count": 236
        }
      ]
    },
    {
      "cell_type": "code",
      "metadata": {
        "id": "EYiRBnPwu_H6",
        "colab": {
          "base_uri": "https://localhost:8080/",
          "height": 459
        },
        "outputId": "e4a155b4-e675-4b23-9f21-7dbbc2788078"
      },
      "source": [
        "plt.figure(figsize = (15,7))\n",
        "plt.hist(train['passenger_count'] , bins = 15)\n",
        "plt.xlabel('No. of passengers')\n",
        "plt.ylabel('Frequency')"
      ],
      "execution_count": 237,
      "outputs": [
        {
          "output_type": "execute_result",
          "data": {
            "text/plain": [
              "Text(0, 0.5, 'Frequency')"
            ]
          },
          "metadata": {},
          "execution_count": 237
        },
        {
          "output_type": "display_data",
          "data": {
            "image/png": "[encoded data removed]",
            "text/plain": [
              "<Figure size 1080x504 with 1 Axes>"
            ]
          },
          "metadata": {
            "needs_background": "light"
          }
        }
      ]
    },
    {
      "cell_type": "code",
      "metadata": {
        "id": "LRM-gRAJvXep",
        "colab": {
          "base_uri": "https://localhost:8080/",
          "height": 459
        },
        "outputId": "a600b8b7-23be-444e-ed40-df3ca492453a"
      },
      "source": [
        "plt.figure(figsize =(15,7))\n",
        "plt.scatter(x = train['passenger_count'] , y = train['fare_amount'])\n",
        "plt.xlabel('No . of Passengers')\n",
        "plt.ylabel('Fare')"
      ],
      "execution_count": 238,
      "outputs": [
        {
          "output_type": "execute_result",
          "data": {
            "text/plain": [
              "Text(0, 0.5, 'Fare')"
            ]
          },
          "metadata": {},
          "execution_count": 238
        },
        {
          "output_type": "display_data",
          "data": {
            "image/png": "[encoded data removed]",
            "text/plain": [
              "<Figure size 1080x504 with 1 Axes>"
            ]
          },
          "metadata": {
            "needs_background": "light"
          }
        }
      ]
    },
    {
      "cell_type": "code",
      "metadata": {
        "id": "U7LjcE92xGV3",
        "colab": {
          "base_uri": "https://localhost:8080/",
          "height": 459
        },
        "outputId": "0e48f112-f308-4bfc-a8f9-292c91322dad"
      },
      "source": [
        "#The fares throught the month mostly seem uniform, with the maximum fare received on the 12th\n",
        "plt.figure(figsize = (15 , 7))\n",
        "plt.scatter(x = train['Date'] , y = train['fare_amount'] , s = 1.5)\n",
        "plt.xlabel('Date')\n",
        "plt.ylabel('Fare')"
      ],
      "execution_count": 239,
      "outputs": [
        {
          "output_type": "execute_result",
          "data": {
            "text/plain": [
              "Text(0, 0.5, 'Fare')"
            ]
          },
          "metadata": {},
          "execution_count": 239
        },
        {
          "output_type": "display_data",
          "data": {
            "image/png": "[encoded data removed]",
            "text/plain": [
              "<Figure size 1080x504 with 1 Axes>"
            ]
          },
          "metadata": {
            "needs_background": "light"
          }
        }
      ]
    },
    {
      "cell_type": "code",
      "metadata": {
        "id": "2FHzZnZtz_4H",
        "colab": {
          "base_uri": "https://localhost:8080/",
          "height": 459
        },
        "outputId": "0f82e61e-fc4b-40dc-a781-32f32a1431e2"
      },
      "source": [
        "plt.figure(figsize = (15 , 7 ))\n",
        "plt.hist(train['Hour'] , bins = 100)\n",
        "plt.xlabel('Hour')\n",
        "plt.ylabel('Frequency')"
      ],
      "execution_count": 240,
      "outputs": [
        {
          "output_type": "execute_result",
          "data": {
            "text/plain": [
              "Text(0, 0.5, 'Frequency')"
            ]
          },
          "metadata": {},
          "execution_count": 240
        },
        {
          "output_type": "display_data",
          "data": {
            "image/png": "[encoded data removed]",
            "text/plain": [
              "<Figure size 1080x504 with 1 Axes>"
            ]
          },
          "metadata": {
            "needs_background": "light"
          }
        }
      ]
    },
    {
      "cell_type": "code",
      "metadata": {
        "id": "Q7shCr5M17oK",
        "colab": {
          "base_uri": "https://localhost:8080/",
          "height": 459
        },
        "outputId": "031acc5b-9809-44c1-a48a-7d7ba63bcf38"
      },
      "source": [
        "plt.figure(figsize = (15 , 7))\n",
        "plt.scatter(x = train['Hour'] , y = train['fare_amount'] , s=1.5)\n",
        "plt.xlabel('Hour')\n",
        "plt.ylabel('Fare')"
      ],
      "execution_count": 241,
      "outputs": [
        {
          "output_type": "execute_result",
          "data": {
            "text/plain": [
              "Text(0, 0.5, 'Fare')"
            ]
          },
          "metadata": {},
          "execution_count": 241
        },
        {
          "output_type": "display_data",
          "data": {
            "image/png": "[encoded data removed]",
            "text/plain": [
              "<Figure size 1080x504 with 1 Axes>"
            ]
          },
          "metadata": {
            "needs_background": "light"
          }
        }
      ]
    },
    {
      "cell_type": "code",
      "metadata": {
        "id": "9VIw83WP2VRy",
        "colab": {
          "base_uri": "https://localhost:8080/",
          "height": 459
        },
        "outputId": "5eea9a09-2cff-47dd-a852-22172e89aaf1"
      },
      "source": [
        "plt.figure(figsize=(15,7))\n",
        "plt.hist(train['Day of Week'], bins=100)\n",
        "plt.xlabel('Day of Week')\n",
        "plt.ylabel('Frequency')"
      ],
      "execution_count": 242,
      "outputs": [
        {
          "output_type": "execute_result",
          "data": {
            "text/plain": [
              "Text(0, 0.5, 'Frequency')"
            ]
          },
          "metadata": {},
          "execution_count": 242
        },
        {
          "output_type": "display_data",
          "data": {
            "image/png": "[encoded data removed]",
            "text/plain": [
              "<Figure size 1080x504 with 1 Axes>"
            ]
          },
          "metadata": {
            "needs_background": "light"
          }
        }
      ]
    },
    {
      "cell_type": "code",
      "metadata": {
        "id": "HgVdOrnu3QO2",
        "colab": {
          "base_uri": "https://localhost:8080/",
          "height": 459
        },
        "outputId": "c1cd81b5-09ba-4ff3-8f62-24414cc84e63"
      },
      "source": [
        "plt.figure(figsize=(15,7))\n",
        "plt.scatter(x=train['Day of Week'], y=train['fare_amount'], s=1.5)\n",
        "plt.xlabel('Day of Week')\n",
        "plt.ylabel('Fare')"
      ],
      "execution_count": 243,
      "outputs": [
        {
          "output_type": "execute_result",
          "data": {
            "text/plain": [
              "Text(0, 0.5, 'Fare')"
            ]
          },
          "metadata": {},
          "execution_count": 243
        },
        {
          "output_type": "display_data",
          "data": {
            "image/png": "[encoded data removed]",
            "text/plain": [
              "<Figure size 1080x504 with 1 Axes>"
            ]
          },
          "metadata": {
            "needs_background": "light"
          }
        }
      ]
    },
    {
      "cell_type": "code",
      "metadata": {
        "id": "iai3Tijf3Vvz",
        "colab": {
          "base_uri": "https://localhost:8080/",
          "height": 643
        },
        "outputId": "e36b25da-2b70-4883-b42d-b34eb83da044"
      },
      "source": [
        "train.sort_values(['H_Distance','fare_amount'], ascending=False)"
      ],
      "execution_count": 244,
      "outputs": [
        {
          "output_type": "execute_result",
          "data": {
            "text/html": [
              "<div>\n",
              "<style scoped>\n",
              "    .dataframe tbody tr th:only-of-type {\n",
              "        vertical-align: middle;\n",
              "    }\n",
              "\n",
              "    .dataframe tbody tr th {\n",
              "        vertical-align: top;\n",
              "    }\n",
              "\n",
              "    .dataframe thead th {\n",
              "        text-align: right;\n",
              "    }\n",
              "</style>\n",
              "<table border=\"1\" class=\"dataframe\">\n",
              "  <thead>\n",
              "    <tr style=\"text-align: right;\">\n",
              "      <th></th>\n",
              "      <th>key</th>\n",
              "      <th>fare_amount</th>\n",
              "      <th>pickup_datetime</th>\n",
              "      <th>pickup_longitude</th>\n",
              "      <th>pickup_latitude</th>\n",
              "      <th>dropoff_longitude</th>\n",
              "      <th>dropoff_latitude</th>\n",
              "      <th>passenger_count</th>\n",
              "      <th>H_Distance</th>\n",
              "      <th>Year</th>\n",
              "      <th>Month</th>\n",
              "      <th>Date</th>\n",
              "      <th>Day of Week</th>\n",
              "      <th>Hour</th>\n",
              "    </tr>\n",
              "  </thead>\n",
              "  <tbody>\n",
              "    <tr>\n",
              "      <th>793922</th>\n",
              "      <td>2012-06-03 11:19:37.000000200</td>\n",
              "      <td>32.10</td>\n",
              "      <td>2012-06-03 11:19:37+00:00</td>\n",
              "      <td>-73.863359</td>\n",
              "      <td>40.769278</td>\n",
              "      <td>45.581619</td>\n",
              "      <td>-2.013462</td>\n",
              "      <td>2</td>\n",
              "      <td>12594.704725</td>\n",
              "      <td>2012</td>\n",
              "      <td>6</td>\n",
              "      <td>3</td>\n",
              "      <td>6</td>\n",
              "      <td>11</td>\n",
              "    </tr>\n",
              "    <tr>\n",
              "      <th>269695</th>\n",
              "      <td>2012-05-24 09:00:00.000000101</td>\n",
              "      <td>17.70</td>\n",
              "      <td>2012-05-24 09:00:00+00:00</td>\n",
              "      <td>-73.997572</td>\n",
              "      <td>40.720945</td>\n",
              "      <td>-1329.621332</td>\n",
              "      <td>40.773717</td>\n",
              "      <td>1</td>\n",
              "      <td>10942.515639</td>\n",
              "      <td>2012</td>\n",
              "      <td>5</td>\n",
              "      <td>24</td>\n",
              "      <td>3</td>\n",
              "      <td>9</td>\n",
              "    </tr>\n",
              "    <tr>\n",
              "      <th>646132</th>\n",
              "      <td>2012-02-08 20:24:00.000000173</td>\n",
              "      <td>10.50</td>\n",
              "      <td>2012-02-08 20:24:00+00:00</td>\n",
              "      <td>-89.439785</td>\n",
              "      <td>1.707957</td>\n",
              "      <td>0.000000</td>\n",
              "      <td>0.000000</td>\n",
              "      <td>1</td>\n",
              "      <td>9945.278008</td>\n",
              "      <td>2012</td>\n",
              "      <td>2</td>\n",
              "      <td>8</td>\n",
              "      <td>2</td>\n",
              "      <td>20</td>\n",
              "    </tr>\n",
              "    <tr>\n",
              "      <th>823943</th>\n",
              "      <td>2010-11-14 21:40:00.000000590</td>\n",
              "      <td>4.90</td>\n",
              "      <td>2010-11-14 21:40:00+00:00</td>\n",
              "      <td>0.000000</td>\n",
              "      <td>0.000000</td>\n",
              "      <td>-73.960303</td>\n",
              "      <td>81.510177</td>\n",
              "      <td>1</td>\n",
              "      <td>9747.587427</td>\n",
              "      <td>2010</td>\n",
              "      <td>11</td>\n",
              "      <td>14</td>\n",
              "      <td>6</td>\n",
              "      <td>21</td>\n",
              "    </tr>\n",
              "    <tr>\n",
              "      <th>401445</th>\n",
              "      <td>2011-02-26 03:28:03.000000600</td>\n",
              "      <td>14.50</td>\n",
              "      <td>2011-02-26 03:28:03+00:00</td>\n",
              "      <td>0.000000</td>\n",
              "      <td>0.000000</td>\n",
              "      <td>-75.433371</td>\n",
              "      <td>40.752047</td>\n",
              "      <td>1</td>\n",
              "      <td>8786.235625</td>\n",
              "      <td>2011</td>\n",
              "      <td>2</td>\n",
              "      <td>26</td>\n",
              "      <td>5</td>\n",
              "      <td>3</td>\n",
              "    </tr>\n",
              "    <tr>\n",
              "      <th>...</th>\n",
              "      <td>...</td>\n",
              "      <td>...</td>\n",
              "      <td>...</td>\n",
              "      <td>...</td>\n",
              "      <td>...</td>\n",
              "      <td>...</td>\n",
              "      <td>...</td>\n",
              "      <td>...</td>\n",
              "      <td>...</td>\n",
              "      <td>...</td>\n",
              "      <td>...</td>\n",
              "      <td>...</td>\n",
              "      <td>...</td>\n",
              "      <td>...</td>\n",
              "    </tr>\n",
              "    <tr>\n",
              "      <th>830616</th>\n",
              "      <td>2015-01-21 06:29:21.000000600</td>\n",
              "      <td>0.01</td>\n",
              "      <td>2015-01-21 06:29:21+00:00</td>\n",
              "      <td>0.000000</td>\n",
              "      <td>0.000000</td>\n",
              "      <td>0.000000</td>\n",
              "      <td>0.000000</td>\n",
              "      <td>1</td>\n",
              "      <td>0.000000</td>\n",
              "      <td>2015</td>\n",
              "      <td>1</td>\n",
              "      <td>21</td>\n",
              "      <td>2</td>\n",
              "      <td>6</td>\n",
              "    </tr>\n",
              "    <tr>\n",
              "      <th>105051</th>\n",
              "      <td>2013-08-21 21:41:00.000000215</td>\n",
              "      <td>0.00</td>\n",
              "      <td>2013-08-21 21:41:00+00:00</td>\n",
              "      <td>0.000000</td>\n",
              "      <td>0.000000</td>\n",
              "      <td>0.000000</td>\n",
              "      <td>0.000000</td>\n",
              "      <td>2</td>\n",
              "      <td>0.000000</td>\n",
              "      <td>2013</td>\n",
              "      <td>8</td>\n",
              "      <td>21</td>\n",
              "      <td>2</td>\n",
              "      <td>21</td>\n",
              "    </tr>\n",
              "    <tr>\n",
              "      <th>331597</th>\n",
              "      <td>2013-08-05 06:45:54.000000500</td>\n",
              "      <td>0.00</td>\n",
              "      <td>2013-08-05 06:45:54+00:00</td>\n",
              "      <td>-73.982354</td>\n",
              "      <td>40.679971</td>\n",
              "      <td>-73.982354</td>\n",
              "      <td>40.679971</td>\n",
              "      <td>1</td>\n",
              "      <td>0.000000</td>\n",
              "      <td>2013</td>\n",
              "      <td>8</td>\n",
              "      <td>5</td>\n",
              "      <td>0</td>\n",
              "      <td>6</td>\n",
              "    </tr>\n",
              "    <tr>\n",
              "      <th>436658</th>\n",
              "      <td>2015-03-04 22:33:39.000000800</td>\n",
              "      <td>0.00</td>\n",
              "      <td>2015-03-04 22:33:39+00:00</td>\n",
              "      <td>-74.043442</td>\n",
              "      <td>40.788208</td>\n",
              "      <td>-74.043442</td>\n",
              "      <td>40.788208</td>\n",
              "      <td>1</td>\n",
              "      <td>0.000000</td>\n",
              "      <td>2015</td>\n",
              "      <td>3</td>\n",
              "      <td>4</td>\n",
              "      <td>2</td>\n",
              "      <td>22</td>\n",
              "    </tr>\n",
              "    <tr>\n",
              "      <th>689250</th>\n",
              "      <td>2015-05-27 23:10:03.000000400</td>\n",
              "      <td>0.00</td>\n",
              "      <td>2015-05-27 23:10:03+00:00</td>\n",
              "      <td>-73.994125</td>\n",
              "      <td>40.741131</td>\n",
              "      <td>-73.994125</td>\n",
              "      <td>40.741131</td>\n",
              "      <td>1</td>\n",
              "      <td>0.000000</td>\n",
              "      <td>2015</td>\n",
              "      <td>5</td>\n",
              "      <td>27</td>\n",
              "      <td>2</td>\n",
              "      <td>23</td>\n",
              "    </tr>\n",
              "  </tbody>\n",
              "</table>\n",
              "<p>999920 rows × 14 columns</p>\n",
              "</div>"
            ],
            "text/plain": [
              "                                 key  fare_amount  ... Day of Week  Hour\n",
              "793922 2012-06-03 11:19:37.000000200        32.10  ...           6    11\n",
              "269695 2012-05-24 09:00:00.000000101        17.70  ...           3     9\n",
              "646132 2012-02-08 20:24:00.000000173        10.50  ...           2    20\n",
              "823943 2010-11-14 21:40:00.000000590         4.90  ...           6    21\n",
              "401445 2011-02-26 03:28:03.000000600        14.50  ...           5     3\n",
              "...                              ...          ...  ...         ...   ...\n",
              "830616 2015-01-21 06:29:21.000000600         0.01  ...           2     6\n",
              "105051 2013-08-21 21:41:00.000000215         0.00  ...           2    21\n",
              "331597 2013-08-05 06:45:54.000000500         0.00  ...           0     6\n",
              "436658 2015-03-04 22:33:39.000000800         0.00  ...           2    22\n",
              "689250 2015-05-27 23:10:03.000000400         0.00  ...           2    23\n",
              "\n",
              "[999920 rows x 14 columns]"
            ]
          },
          "metadata": {},
          "execution_count": 244
        }
      ]
    },
    {
      "cell_type": "code",
      "metadata": {
        "id": "IaDUDbS35UhL",
        "colab": {
          "base_uri": "https://localhost:8080/"
        },
        "outputId": "3fc22025-4165-4a51-f15e-8a106fa5cabb"
      },
      "source": [
        "len(train)"
      ],
      "execution_count": 245,
      "outputs": [
        {
          "output_type": "execute_result",
          "data": {
            "text/plain": [
              "999920"
            ]
          },
          "metadata": {},
          "execution_count": 245
        }
      ]
    },
    {
      "cell_type": "code",
      "metadata": {
        "id": "EaUlLkHZ8LxU"
      },
      "source": [
        "bins_0 = train.loc[(train['H_Distance'] == 0) , ['H_Distance']]\n",
        "bins_1 = train.loc[(train['H_Distance'] >0) & (train['H_Distance']<=10) , ['H_Distance']]\n",
        "bins_2 = train.loc[(train['H_Distance']>10) & (train['H_Distance']<=50) , ['H_Distance']]\n",
        "bins_3 = train.loc[(train['H_Distance']>50) & (train['H_Distance']<=100) , ['H_Distance']]\n",
        "bins_4 = train.loc[(train['H_Distance']>100) & (train['H_Distance']<=200) , ['H_Distance']]\n",
        "bins_5 = train.loc[(train['H_Distance']>200) & (train['H_Distance']<=300) , ['H_Distance']]\n",
        "bins_6 = train.loc[(train['H_Distance']>300), ['H_Distance']]\n",
        "bins_0['bins'] = '0'\n",
        "bins_1['bins'] = '0-10'\n",
        "bins_2['bins'] = '11-50'\n",
        "bins_3['bins'] = '51-100'\n",
        "bins_4['bins'] = '100-200'\n",
        "bins_5['bins'] = '201-300'\n",
        "bins_6['bins'] = '>300'"
      ],
      "execution_count": 246,
      "outputs": []
    },
    {
      "cell_type": "code",
      "metadata": {
        "id": "ZnTz7fNirlDq",
        "colab": {
          "base_uri": "https://localhost:8080/"
        },
        "outputId": "abf8fb53-52be-4446-f140-5f4e540c6074"
      },
      "source": [
        "dist_bins =pd.concat([bins_0,bins_1,bins_2,bins_3,bins_4,bins_5,bins_6])\n",
        "dist_bins.columns\n"
      ],
      "execution_count": 247,
      "outputs": [
        {
          "output_type": "execute_result",
          "data": {
            "text/plain": [
              "Index(['H_Distance', 'bins'], dtype='object')"
            ]
          },
          "metadata": {},
          "execution_count": 247
        }
      ]
    },
    {
      "cell_type": "code",
      "metadata": {
        "id": "6qghUXXXsFZN",
        "colab": {
          "base_uri": "https://localhost:8080/",
          "height": 459
        },
        "outputId": "e10f1dab-d6ea-4d6a-b1bb-33ef04c6038a"
      },
      "source": [
        "plt.figure(figsize = (15,7))\n",
        "plt.hist(dist_bins['bins'], bins =75)\n",
        "plt.xlabel('bins')\n",
        "plt.ylabel('Frequency')"
      ],
      "execution_count": 248,
      "outputs": [
        {
          "output_type": "execute_result",
          "data": {
            "text/plain": [
              "Text(0, 0.5, 'Frequency')"
            ]
          },
          "metadata": {},
          "execution_count": 248
        },
        {
          "output_type": "display_data",
          "data": {
            "image/png": "[encoded data removed]",
            "text/plain": [
              "<Figure size 1080x504 with 1 Axes>"
            ]
          },
          "metadata": {
            "needs_background": "light"
          }
        }
      ]
    },
    {
      "cell_type": "code",
      "metadata": {
        "id": "gwKdlnrItvfS",
        "colab": {
          "base_uri": "https://localhost:8080/"
        },
        "outputId": "73aa68d2-cca6-4690-f52e-cf5ea7947a61"
      },
      "source": [
        "Counter(dist_bins['bins'])"
      ],
      "execution_count": 249,
      "outputs": [
        {
          "output_type": "execute_result",
          "data": {
            "text/plain": [
              "Counter({'0': 28481,\n",
              "         '0-10': 920071,\n",
              "         '100-200': 206,\n",
              "         '11-50': 49073,\n",
              "         '201-300': 5,\n",
              "         '51-100': 147,\n",
              "         '>300': 1937})"
            ]
          },
          "metadata": {},
          "execution_count": 249
        }
      ]
    },
    {
      "cell_type": "code",
      "metadata": {
        "id": "Oy57XuffuuVo",
        "colab": {
          "base_uri": "https://localhost:8080/",
          "height": 151
        },
        "outputId": "9fca0a0c-d75d-4b25-88a8-d569171ad0b3"
      },
      "source": [
        "#pickup latitude and logitude = 0 \n",
        "\n",
        "train.loc[((train['pickup_latitude'] == 0) & (train['pickup_longitude'] == 0 )) &((train['dropoff_latitude'] != 0) | (train['dropoff_longitude']!=0)) &(train['fare_amount']==0)]"
      ],
      "execution_count": 250,
      "outputs": [
        {
          "output_type": "execute_result",
          "data": {
            "text/html": [
              "<div>\n",
              "<style scoped>\n",
              "    .dataframe tbody tr th:only-of-type {\n",
              "        vertical-align: middle;\n",
              "    }\n",
              "\n",
              "    .dataframe tbody tr th {\n",
              "        vertical-align: top;\n",
              "    }\n",
              "\n",
              "    .dataframe thead th {\n",
              "        text-align: right;\n",
              "    }\n",
              "</style>\n",
              "<table border=\"1\" class=\"dataframe\">\n",
              "  <thead>\n",
              "    <tr style=\"text-align: right;\">\n",
              "      <th></th>\n",
              "      <th>key</th>\n",
              "      <th>fare_amount</th>\n",
              "      <th>pickup_datetime</th>\n",
              "      <th>pickup_longitude</th>\n",
              "      <th>pickup_latitude</th>\n",
              "      <th>dropoff_longitude</th>\n",
              "      <th>dropoff_latitude</th>\n",
              "      <th>passenger_count</th>\n",
              "      <th>H_Distance</th>\n",
              "      <th>Year</th>\n",
              "      <th>Month</th>\n",
              "      <th>Date</th>\n",
              "      <th>Day of Week</th>\n",
              "      <th>Hour</th>\n",
              "    </tr>\n",
              "  </thead>\n",
              "  <tbody>\n",
              "    <tr>\n",
              "      <th>897211</th>\n",
              "      <td>2015-04-08 00:47:30.000000100</td>\n",
              "      <td>0.0</td>\n",
              "      <td>2015-04-08 00:47:30+00:00</td>\n",
              "      <td>0.0</td>\n",
              "      <td>0.0</td>\n",
              "      <td>-73.937698</td>\n",
              "      <td>40.758118</td>\n",
              "      <td>1</td>\n",
              "      <td>8662.340373</td>\n",
              "      <td>2015</td>\n",
              "      <td>4</td>\n",
              "      <td>8</td>\n",
              "      <td>2</td>\n",
              "      <td>0</td>\n",
              "    </tr>\n",
              "  </tbody>\n",
              "</table>\n",
              "</div>"
            ],
            "text/plain": [
              "                                 key  fare_amount  ... Day of Week  Hour\n",
              "897211 2015-04-08 00:47:30.000000100          0.0  ...           2     0\n",
              "\n",
              "[1 rows x 14 columns]"
            ]
          },
          "metadata": {},
          "execution_count": 250
        }
      ]
    },
    {
      "cell_type": "code",
      "metadata": {
        "id": "8nh-YA771Cd8"
      },
      "source": [
        "train = train.drop(train.loc[((train['pickup_latitude'] == 0) & (train['pickup_longitude'] == 0 )) &((train['dropoff_latitude'] != 0) | (train['dropoff_longitude']!=0)) &(train['fare_amount']==0)].index , axis = 0)"
      ],
      "execution_count": 251,
      "outputs": []
    },
    {
      "cell_type": "code",
      "metadata": {
        "id": "DxkTYb7Y19Gm",
        "colab": {
          "base_uri": "https://localhost:8080/"
        },
        "outputId": "bc98d6f5-393e-4090-dc27-2d950376ec1e"
      },
      "source": [
        "#1 row dropped\n",
        "train.shape"
      ],
      "execution_count": 252,
      "outputs": [
        {
          "output_type": "execute_result",
          "data": {
            "text/plain": [
              "(999919, 14)"
            ]
          },
          "metadata": {},
          "execution_count": 252
        }
      ]
    },
    {
      "cell_type": "code",
      "metadata": {
        "id": "wBwRKLsr1-2i",
        "colab": {
          "base_uri": "https://localhost:8080/",
          "height": 103
        },
        "outputId": "449bff48-0093-4ce0-dd7f-a10c2fbe4a8d"
      },
      "source": [
        "test.loc[((test['pickup_latitude']==0)&(test['pickup_longitude']==0))&((test['dropoff_latitude']!=0)|(test['dropoff_longitude']!=0))]"
      ],
      "execution_count": 253,
      "outputs": [
        {
          "output_type": "execute_result",
          "data": {
            "text/html": [
              "<div>\n",
              "<style scoped>\n",
              "    .dataframe tbody tr th:only-of-type {\n",
              "        vertical-align: middle;\n",
              "    }\n",
              "\n",
              "    .dataframe tbody tr th {\n",
              "        vertical-align: top;\n",
              "    }\n",
              "\n",
              "    .dataframe thead th {\n",
              "        text-align: right;\n",
              "    }\n",
              "</style>\n",
              "<table border=\"1\" class=\"dataframe\">\n",
              "  <thead>\n",
              "    <tr style=\"text-align: right;\">\n",
              "      <th></th>\n",
              "      <th>key</th>\n",
              "      <th>pickup_datetime</th>\n",
              "      <th>pickup_longitude</th>\n",
              "      <th>pickup_latitude</th>\n",
              "      <th>dropoff_longitude</th>\n",
              "      <th>dropoff_latitude</th>\n",
              "      <th>passenger_count</th>\n",
              "      <th>H_Distance</th>\n",
              "      <th>Year</th>\n",
              "      <th>Month</th>\n",
              "      <th>Date</th>\n",
              "      <th>Day of Week</th>\n",
              "      <th>Hour</th>\n",
              "    </tr>\n",
              "  </thead>\n",
              "  <tbody>\n",
              "  </tbody>\n",
              "</table>\n",
              "</div>"
            ],
            "text/plain": [
              "Empty DataFrame\n",
              "Columns: [key, pickup_datetime, pickup_longitude, pickup_latitude, dropoff_longitude, dropoff_latitude, passenger_count, H_Distance, Year, Month, Date, Day of Week, Hour]\n",
              "Index: []"
            ]
          },
          "metadata": {},
          "execution_count": 253
        }
      ]
    },
    {
      "cell_type": "code",
      "metadata": {
        "id": "dEjBSHpm2fmq",
        "colab": {
          "base_uri": "https://localhost:8080/",
          "height": 247
        },
        "outputId": "f8f4a366-98a4-4fc8-a5ce-e1b52c5f0cae"
      },
      "source": [
        "#dropoff latitude and logitude = 0\n",
        "train.loc[((train['pickup_latitude']!=0) & (train['pickup_longitude']!=0))&((train['dropoff_latitude']==0) & (train['dropoff_longitude']==0)) & (train['fare_amount']==0)]\n"
      ],
      "execution_count": 254,
      "outputs": [
        {
          "output_type": "execute_result",
          "data": {
            "text/html": [
              "<div>\n",
              "<style scoped>\n",
              "    .dataframe tbody tr th:only-of-type {\n",
              "        vertical-align: middle;\n",
              "    }\n",
              "\n",
              "    .dataframe tbody tr th {\n",
              "        vertical-align: top;\n",
              "    }\n",
              "\n",
              "    .dataframe thead th {\n",
              "        text-align: right;\n",
              "    }\n",
              "</style>\n",
              "<table border=\"1\" class=\"dataframe\">\n",
              "  <thead>\n",
              "    <tr style=\"text-align: right;\">\n",
              "      <th></th>\n",
              "      <th>key</th>\n",
              "      <th>fare_amount</th>\n",
              "      <th>pickup_datetime</th>\n",
              "      <th>pickup_longitude</th>\n",
              "      <th>pickup_latitude</th>\n",
              "      <th>dropoff_longitude</th>\n",
              "      <th>dropoff_latitude</th>\n",
              "      <th>passenger_count</th>\n",
              "      <th>H_Distance</th>\n",
              "      <th>Year</th>\n",
              "      <th>Month</th>\n",
              "      <th>Date</th>\n",
              "      <th>Day of Week</th>\n",
              "      <th>Hour</th>\n",
              "    </tr>\n",
              "  </thead>\n",
              "  <tbody>\n",
              "    <tr>\n",
              "      <th>930680</th>\n",
              "      <td>2015-03-21 21:27:02.000000200</td>\n",
              "      <td>0.0</td>\n",
              "      <td>2015-03-21 21:27:02+00:00</td>\n",
              "      <td>-73.982101</td>\n",
              "      <td>40.770557</td>\n",
              "      <td>0.0</td>\n",
              "      <td>0.0</td>\n",
              "      <td>2</td>\n",
              "      <td>8666.270974</td>\n",
              "      <td>2015</td>\n",
              "      <td>3</td>\n",
              "      <td>21</td>\n",
              "      <td>5</td>\n",
              "      <td>21</td>\n",
              "    </tr>\n",
              "    <tr>\n",
              "      <th>942215</th>\n",
              "      <td>2015-03-22 00:36:37.000000900</td>\n",
              "      <td>0.0</td>\n",
              "      <td>2015-03-22 00:36:37+00:00</td>\n",
              "      <td>-73.952240</td>\n",
              "      <td>40.749435</td>\n",
              "      <td>0.0</td>\n",
              "      <td>0.0</td>\n",
              "      <td>1</td>\n",
              "      <td>8663.365938</td>\n",
              "      <td>2015</td>\n",
              "      <td>3</td>\n",
              "      <td>22</td>\n",
              "      <td>6</td>\n",
              "      <td>0</td>\n",
              "    </tr>\n",
              "    <tr>\n",
              "      <th>949564</th>\n",
              "      <td>2015-04-28 11:18:39.000000400</td>\n",
              "      <td>0.0</td>\n",
              "      <td>2015-04-28 11:18:39+00:00</td>\n",
              "      <td>-73.996246</td>\n",
              "      <td>40.748653</td>\n",
              "      <td>0.0</td>\n",
              "      <td>0.0</td>\n",
              "      <td>1</td>\n",
              "      <td>8666.993460</td>\n",
              "      <td>2015</td>\n",
              "      <td>4</td>\n",
              "      <td>28</td>\n",
              "      <td>1</td>\n",
              "      <td>11</td>\n",
              "    </tr>\n",
              "  </tbody>\n",
              "</table>\n",
              "</div>"
            ],
            "text/plain": [
              "                                 key  fare_amount  ... Day of Week  Hour\n",
              "930680 2015-03-21 21:27:02.000000200          0.0  ...           5    21\n",
              "942215 2015-03-22 00:36:37.000000900          0.0  ...           6     0\n",
              "949564 2015-04-28 11:18:39.000000400          0.0  ...           1    11\n",
              "\n",
              "[3 rows x 14 columns]"
            ]
          },
          "metadata": {},
          "execution_count": 254
        }
      ]
    },
    {
      "cell_type": "code",
      "metadata": {
        "id": "OAP7wbmt45OI"
      },
      "source": [
        "train = train.drop(train.loc[((train['pickup_latitude']!=0) & (train['pickup_longitude']!=0))&((train['dropoff_latitude']==0) & (train['dropoff_longitude']==0)) & (train['fare_amount']==0)].index, axis=0)\n"
      ],
      "execution_count": 255,
      "outputs": []
    },
    {
      "cell_type": "code",
      "metadata": {
        "id": "k_gG46Ar5Hz7",
        "colab": {
          "base_uri": "https://localhost:8080/"
        },
        "outputId": "9cce62d9-fa49-4133-b210-f7a4cf06b530"
      },
      "source": [
        "train.shape"
      ],
      "execution_count": 256,
      "outputs": [
        {
          "output_type": "execute_result",
          "data": {
            "text/plain": [
              "(999916, 14)"
            ]
          },
          "metadata": {},
          "execution_count": 256
        }
      ]
    },
    {
      "cell_type": "code",
      "metadata": {
        "id": "mgFSJSDy5KaK",
        "colab": {
          "base_uri": "https://localhost:8080/",
          "height": 103
        },
        "outputId": "74fd45bb-e82b-40ed-f815-de3cecf64b43"
      },
      "source": [
        "#Checking test data\n",
        "#Again no records! AWESOME!\n",
        "test.loc[((test['pickup_latitude']!=0) & (test['pickup_longitude']!=0))&((test['dropoff_latitude']==0) & (test['dropoff_longitude']==0))]"
      ],
      "execution_count": 257,
      "outputs": [
        {
          "output_type": "execute_result",
          "data": {
            "text/html": [
              "<div>\n",
              "<style scoped>\n",
              "    .dataframe tbody tr th:only-of-type {\n",
              "        vertical-align: middle;\n",
              "    }\n",
              "\n",
              "    .dataframe tbody tr th {\n",
              "        vertical-align: top;\n",
              "    }\n",
              "\n",
              "    .dataframe thead th {\n",
              "        text-align: right;\n",
              "    }\n",
              "</style>\n",
              "<table border=\"1\" class=\"dataframe\">\n",
              "  <thead>\n",
              "    <tr style=\"text-align: right;\">\n",
              "      <th></th>\n",
              "      <th>key</th>\n",
              "      <th>pickup_datetime</th>\n",
              "      <th>pickup_longitude</th>\n",
              "      <th>pickup_latitude</th>\n",
              "      <th>dropoff_longitude</th>\n",
              "      <th>dropoff_latitude</th>\n",
              "      <th>passenger_count</th>\n",
              "      <th>H_Distance</th>\n",
              "      <th>Year</th>\n",
              "      <th>Month</th>\n",
              "      <th>Date</th>\n",
              "      <th>Day of Week</th>\n",
              "      <th>Hour</th>\n",
              "    </tr>\n",
              "  </thead>\n",
              "  <tbody>\n",
              "  </tbody>\n",
              "</table>\n",
              "</div>"
            ],
            "text/plain": [
              "Empty DataFrame\n",
              "Columns: [key, pickup_datetime, pickup_longitude, pickup_latitude, dropoff_longitude, dropoff_latitude, passenger_count, H_Distance, Year, Month, Date, Day of Week, Hour]\n",
              "Index: []"
            ]
          },
          "metadata": {},
          "execution_count": 257
        }
      ]
    },
    {
      "cell_type": "markdown",
      "metadata": {
        "id": "FoHP6L8S--9X"
      },
      "source": [
        "check the H_Distance fields with are greater thn 200 kms"
      ]
    },
    {
      "cell_type": "code",
      "metadata": {
        "id": "m_jphrh-8meW"
      },
      "source": [
        "high_distance = train.loc[(train['H_Distance']>200) &(train['fare_amount']!=0)]"
      ],
      "execution_count": 258,
      "outputs": []
    },
    {
      "cell_type": "code",
      "metadata": {
        "id": "qZ-kukh6_RWD",
        "colab": {
          "base_uri": "https://localhost:8080/",
          "height": 643
        },
        "outputId": "387bbccf-c4d6-43a1-a381-8c8aaf0f1e56"
      },
      "source": [
        "high_distance"
      ],
      "execution_count": 259,
      "outputs": [
        {
          "output_type": "execute_result",
          "data": {
            "text/html": [
              "<div>\n",
              "<style scoped>\n",
              "    .dataframe tbody tr th:only-of-type {\n",
              "        vertical-align: middle;\n",
              "    }\n",
              "\n",
              "    .dataframe tbody tr th {\n",
              "        vertical-align: top;\n",
              "    }\n",
              "\n",
              "    .dataframe thead th {\n",
              "        text-align: right;\n",
              "    }\n",
              "</style>\n",
              "<table border=\"1\" class=\"dataframe\">\n",
              "  <thead>\n",
              "    <tr style=\"text-align: right;\">\n",
              "      <th></th>\n",
              "      <th>key</th>\n",
              "      <th>fare_amount</th>\n",
              "      <th>pickup_datetime</th>\n",
              "      <th>pickup_longitude</th>\n",
              "      <th>pickup_latitude</th>\n",
              "      <th>dropoff_longitude</th>\n",
              "      <th>dropoff_latitude</th>\n",
              "      <th>passenger_count</th>\n",
              "      <th>H_Distance</th>\n",
              "      <th>Year</th>\n",
              "      <th>Month</th>\n",
              "      <th>Date</th>\n",
              "      <th>Day of Week</th>\n",
              "      <th>Hour</th>\n",
              "    </tr>\n",
              "  </thead>\n",
              "  <tbody>\n",
              "    <tr>\n",
              "      <th>472</th>\n",
              "      <td>2009-02-22 22:48:00.000000130</td>\n",
              "      <td>2.5</td>\n",
              "      <td>2009-02-22 22:48:00+00:00</td>\n",
              "      <td>0.000000</td>\n",
              "      <td>0.000000</td>\n",
              "      <td>-74.005433</td>\n",
              "      <td>40.726685</td>\n",
              "      <td>2</td>\n",
              "      <td>8667.304968</td>\n",
              "      <td>2009</td>\n",
              "      <td>2</td>\n",
              "      <td>22</td>\n",
              "      <td>6</td>\n",
              "      <td>22</td>\n",
              "    </tr>\n",
              "    <tr>\n",
              "      <th>1260</th>\n",
              "      <td>2011-03-10 20:25:00.000000490</td>\n",
              "      <td>5.7</td>\n",
              "      <td>2011-03-10 20:25:00+00:00</td>\n",
              "      <td>-73.973907</td>\n",
              "      <td>40.754743</td>\n",
              "      <td>0.000000</td>\n",
              "      <td>0.000000</td>\n",
              "      <td>2</td>\n",
              "      <td>8665.268588</td>\n",
              "      <td>2011</td>\n",
              "      <td>3</td>\n",
              "      <td>10</td>\n",
              "      <td>3</td>\n",
              "      <td>20</td>\n",
              "    </tr>\n",
              "    <tr>\n",
              "      <th>2280</th>\n",
              "      <td>2011-08-29 08:24:00.000000107</td>\n",
              "      <td>8.9</td>\n",
              "      <td>2011-08-29 08:24:00+00:00</td>\n",
              "      <td>-73.936667</td>\n",
              "      <td>40.757815</td>\n",
              "      <td>0.000000</td>\n",
              "      <td>40.757815</td>\n",
              "      <td>1</td>\n",
              "      <td>6026.494216</td>\n",
              "      <td>2011</td>\n",
              "      <td>8</td>\n",
              "      <td>29</td>\n",
              "      <td>0</td>\n",
              "      <td>8</td>\n",
              "    </tr>\n",
              "    <tr>\n",
              "      <th>2397</th>\n",
              "      <td>2012-06-24 17:11:10.000000100</td>\n",
              "      <td>45.0</td>\n",
              "      <td>2012-06-24 17:11:10+00:00</td>\n",
              "      <td>0.000000</td>\n",
              "      <td>0.000000</td>\n",
              "      <td>-74.010230</td>\n",
              "      <td>40.714553</td>\n",
              "      <td>2</td>\n",
              "      <td>8667.454421</td>\n",
              "      <td>2012</td>\n",
              "      <td>6</td>\n",
              "      <td>24</td>\n",
              "      <td>6</td>\n",
              "      <td>17</td>\n",
              "    </tr>\n",
              "    <tr>\n",
              "      <th>4278</th>\n",
              "      <td>2015-04-07 23:33:02.000000500</td>\n",
              "      <td>7.0</td>\n",
              "      <td>2015-04-07 23:33:02+00:00</td>\n",
              "      <td>-73.972702</td>\n",
              "      <td>40.757423</td>\n",
              "      <td>0.000000</td>\n",
              "      <td>0.000000</td>\n",
              "      <td>1</td>\n",
              "      <td>8665.223767</td>\n",
              "      <td>2015</td>\n",
              "      <td>4</td>\n",
              "      <td>7</td>\n",
              "      <td>1</td>\n",
              "      <td>23</td>\n",
              "    </tr>\n",
              "    <tr>\n",
              "      <th>...</th>\n",
              "      <td>...</td>\n",
              "      <td>...</td>\n",
              "      <td>...</td>\n",
              "      <td>...</td>\n",
              "      <td>...</td>\n",
              "      <td>...</td>\n",
              "      <td>...</td>\n",
              "      <td>...</td>\n",
              "      <td>...</td>\n",
              "      <td>...</td>\n",
              "      <td>...</td>\n",
              "      <td>...</td>\n",
              "      <td>...</td>\n",
              "      <td>...</td>\n",
              "    </tr>\n",
              "    <tr>\n",
              "      <th>997656</th>\n",
              "      <td>2012-01-21 01:43:00.000000134</td>\n",
              "      <td>26.5</td>\n",
              "      <td>2012-01-21 01:43:00+00:00</td>\n",
              "      <td>0.000000</td>\n",
              "      <td>0.000000</td>\n",
              "      <td>-73.954157</td>\n",
              "      <td>40.741552</td>\n",
              "      <td>1</td>\n",
              "      <td>8663.362917</td>\n",
              "      <td>2012</td>\n",
              "      <td>1</td>\n",
              "      <td>21</td>\n",
              "      <td>5</td>\n",
              "      <td>1</td>\n",
              "    </tr>\n",
              "    <tr>\n",
              "      <th>997786</th>\n",
              "      <td>2012-02-27 21:12:17.000000300</td>\n",
              "      <td>13.7</td>\n",
              "      <td>2012-02-27 21:12:17+00:00</td>\n",
              "      <td>-73.991041</td>\n",
              "      <td>40.733201</td>\n",
              "      <td>0.000000</td>\n",
              "      <td>0.000000</td>\n",
              "      <td>1</td>\n",
              "      <td>8666.246213</td>\n",
              "      <td>2012</td>\n",
              "      <td>2</td>\n",
              "      <td>27</td>\n",
              "      <td>0</td>\n",
              "      <td>21</td>\n",
              "    </tr>\n",
              "    <tr>\n",
              "      <th>998269</th>\n",
              "      <td>2012-10-19 16:56:00.000000300</td>\n",
              "      <td>32.3</td>\n",
              "      <td>2012-10-19 16:56:00+00:00</td>\n",
              "      <td>0.000000</td>\n",
              "      <td>40.750597</td>\n",
              "      <td>-73.863035</td>\n",
              "      <td>40.767178</td>\n",
              "      <td>1</td>\n",
              "      <td>6020.822520</td>\n",
              "      <td>2012</td>\n",
              "      <td>10</td>\n",
              "      <td>19</td>\n",
              "      <td>4</td>\n",
              "      <td>16</td>\n",
              "    </tr>\n",
              "    <tr>\n",
              "      <th>998717</th>\n",
              "      <td>2014-07-24 21:48:00.000000155</td>\n",
              "      <td>6.5</td>\n",
              "      <td>2014-07-24 21:48:00+00:00</td>\n",
              "      <td>0.000000</td>\n",
              "      <td>0.000000</td>\n",
              "      <td>-73.991420</td>\n",
              "      <td>40.750400</td>\n",
              "      <td>1</td>\n",
              "      <td>8666.629589</td>\n",
              "      <td>2014</td>\n",
              "      <td>7</td>\n",
              "      <td>24</td>\n",
              "      <td>3</td>\n",
              "      <td>21</td>\n",
              "    </tr>\n",
              "    <tr>\n",
              "      <th>999338</th>\n",
              "      <td>2014-10-20 16:56:24.000000200</td>\n",
              "      <td>4.0</td>\n",
              "      <td>2014-10-20 16:56:24+00:00</td>\n",
              "      <td>0.000000</td>\n",
              "      <td>0.000000</td>\n",
              "      <td>-73.992518</td>\n",
              "      <td>40.741942</td>\n",
              "      <td>1</td>\n",
              "      <td>8666.547400</td>\n",
              "      <td>2014</td>\n",
              "      <td>10</td>\n",
              "      <td>20</td>\n",
              "      <td>0</td>\n",
              "      <td>16</td>\n",
              "    </tr>\n",
              "  </tbody>\n",
              "</table>\n",
              "<p>1938 rows × 14 columns</p>\n",
              "</div>"
            ],
            "text/plain": [
              "                                 key  fare_amount  ... Day of Week  Hour\n",
              "472    2009-02-22 22:48:00.000000130          2.5  ...           6    22\n",
              "1260   2011-03-10 20:25:00.000000490          5.7  ...           3    20\n",
              "2280   2011-08-29 08:24:00.000000107          8.9  ...           0     8\n",
              "2397   2012-06-24 17:11:10.000000100         45.0  ...           6    17\n",
              "4278   2015-04-07 23:33:02.000000500          7.0  ...           1    23\n",
              "...                              ...          ...  ...         ...   ...\n",
              "997656 2012-01-21 01:43:00.000000134         26.5  ...           5     1\n",
              "997786 2012-02-27 21:12:17.000000300         13.7  ...           0    21\n",
              "998269 2012-10-19 16:56:00.000000300         32.3  ...           4    16\n",
              "998717 2014-07-24 21:48:00.000000155          6.5  ...           3    21\n",
              "999338 2014-10-20 16:56:24.000000200          4.0  ...           0    16\n",
              "\n",
              "[1938 rows x 14 columns]"
            ]
          },
          "metadata": {},
          "execution_count": 259
        }
      ]
    },
    {
      "cell_type": "code",
      "metadata": {
        "id": "cR2Dulos_TkR",
        "colab": {
          "base_uri": "https://localhost:8080/"
        },
        "outputId": "93b48233-8884-42ba-d944-1b3d25b93fa4"
      },
      "source": [
        "high_distance.shape"
      ],
      "execution_count": 260,
      "outputs": [
        {
          "output_type": "execute_result",
          "data": {
            "text/plain": [
              "(1938, 14)"
            ]
          },
          "metadata": {},
          "execution_count": 260
        }
      ]
    },
    {
      "cell_type": "code",
      "metadata": {
        "id": "QJaH2jbnDQX2",
        "colab": {
          "base_uri": "https://localhost:8080/"
        },
        "outputId": "3351364e-e56a-48f4-a461-40d5ba8eaf41"
      },
      "source": [
        "high_distance['H_Distance'] = high_distance.apply(\n",
        "    lambda row: (row['fare_amount'] - 2.50)/1.7,\n",
        "    axis=1\n",
        ")"
      ],
      "execution_count": 261,
      "outputs": [
        {
          "output_type": "stream",
          "name": "stderr",
          "text": [
            "/usr/local/lib/python3.7/dist-packages/ipykernel_launcher.py:3: SettingWithCopyWarning: \n",
            "A value is trying to be set on a copy of a slice from a DataFrame.\n",
            "Try using .loc[row_indexer,col_indexer] = value instead\n",
            "\n",
            "See the caveats in the documentation: https://pandas.pydata.org/pandas-docs/stable/user_guide/indexing.html#returning-a-view-versus-a-copy\n",
            "  This is separate from the ipykernel package so we can avoid doing imports until\n"
          ]
        }
      ]
    },
    {
      "cell_type": "code",
      "metadata": {
        "id": "eVub2pKFIeie",
        "colab": {
          "base_uri": "https://localhost:8080/"
        },
        "outputId": "a8a362be-4560-4263-a257-9c13642bdd1a"
      },
      "source": [
        "high_distance.shape"
      ],
      "execution_count": 262,
      "outputs": [
        {
          "output_type": "execute_result",
          "data": {
            "text/plain": [
              "(1938, 14)"
            ]
          },
          "metadata": {},
          "execution_count": 262
        }
      ]
    },
    {
      "cell_type": "code",
      "metadata": {
        "id": "AIp4qoaWIgRC"
      },
      "source": [
        "train.update(high_distance)"
      ],
      "execution_count": 263,
      "outputs": []
    },
    {
      "cell_type": "code",
      "metadata": {
        "id": "alL3Gyk-KQ-8",
        "colab": {
          "base_uri": "https://localhost:8080/",
          "height": 643
        },
        "outputId": "6cb1ea59-2d6a-4087-fbd4-a148511aae78"
      },
      "source": [
        "train[train['H_Distance']==0]"
      ],
      "execution_count": 264,
      "outputs": [
        {
          "output_type": "execute_result",
          "data": {
            "text/html": [
              "<div>\n",
              "<style scoped>\n",
              "    .dataframe tbody tr th:only-of-type {\n",
              "        vertical-align: middle;\n",
              "    }\n",
              "\n",
              "    .dataframe tbody tr th {\n",
              "        vertical-align: top;\n",
              "    }\n",
              "\n",
              "    .dataframe thead th {\n",
              "        text-align: right;\n",
              "    }\n",
              "</style>\n",
              "<table border=\"1\" class=\"dataframe\">\n",
              "  <thead>\n",
              "    <tr style=\"text-align: right;\">\n",
              "      <th></th>\n",
              "      <th>key</th>\n",
              "      <th>fare_amount</th>\n",
              "      <th>pickup_datetime</th>\n",
              "      <th>pickup_longitude</th>\n",
              "      <th>pickup_latitude</th>\n",
              "      <th>dropoff_longitude</th>\n",
              "      <th>dropoff_latitude</th>\n",
              "      <th>passenger_count</th>\n",
              "      <th>H_Distance</th>\n",
              "      <th>Year</th>\n",
              "      <th>Month</th>\n",
              "      <th>Date</th>\n",
              "      <th>Day of Week</th>\n",
              "      <th>Hour</th>\n",
              "    </tr>\n",
              "  </thead>\n",
              "  <tbody>\n",
              "    <tr>\n",
              "      <th>11</th>\n",
              "      <td>2012-12-24 11:24:00.000000980</td>\n",
              "      <td>5.5</td>\n",
              "      <td>2012-12-24 11:24:00+00:00</td>\n",
              "      <td>0.000000</td>\n",
              "      <td>0.000000</td>\n",
              "      <td>0.000000</td>\n",
              "      <td>0.000000</td>\n",
              "      <td>3.0</td>\n",
              "      <td>0.0</td>\n",
              "      <td>2012.0</td>\n",
              "      <td>12.0</td>\n",
              "      <td>24.0</td>\n",
              "      <td>0.0</td>\n",
              "      <td>11.0</td>\n",
              "    </tr>\n",
              "    <tr>\n",
              "      <th>15</th>\n",
              "      <td>2013-11-23 12:57:00.000000190</td>\n",
              "      <td>5.0</td>\n",
              "      <td>2013-11-23 12:57:00+00:00</td>\n",
              "      <td>0.000000</td>\n",
              "      <td>0.000000</td>\n",
              "      <td>0.000000</td>\n",
              "      <td>0.000000</td>\n",
              "      <td>1.0</td>\n",
              "      <td>0.0</td>\n",
              "      <td>2013.0</td>\n",
              "      <td>11.0</td>\n",
              "      <td>23.0</td>\n",
              "      <td>5.0</td>\n",
              "      <td>12.0</td>\n",
              "    </tr>\n",
              "    <tr>\n",
              "      <th>26</th>\n",
              "      <td>2011-02-07 20:01:00.000000114</td>\n",
              "      <td>6.5</td>\n",
              "      <td>2011-02-07 20:01:00+00:00</td>\n",
              "      <td>0.000000</td>\n",
              "      <td>0.000000</td>\n",
              "      <td>0.000000</td>\n",
              "      <td>0.000000</td>\n",
              "      <td>1.0</td>\n",
              "      <td>0.0</td>\n",
              "      <td>2011.0</td>\n",
              "      <td>2.0</td>\n",
              "      <td>7.0</td>\n",
              "      <td>0.0</td>\n",
              "      <td>20.0</td>\n",
              "    </tr>\n",
              "    <tr>\n",
              "      <th>105</th>\n",
              "      <td>2009-03-25 00:08:52.000000100</td>\n",
              "      <td>52.0</td>\n",
              "      <td>2009-03-25 00:08:52+00:00</td>\n",
              "      <td>-74.035839</td>\n",
              "      <td>40.747320</td>\n",
              "      <td>-74.035839</td>\n",
              "      <td>40.747320</td>\n",
              "      <td>1.0</td>\n",
              "      <td>0.0</td>\n",
              "      <td>2009.0</td>\n",
              "      <td>3.0</td>\n",
              "      <td>25.0</td>\n",
              "      <td>2.0</td>\n",
              "      <td>0.0</td>\n",
              "    </tr>\n",
              "    <tr>\n",
              "      <th>124</th>\n",
              "      <td>2013-01-17 17:22:00.000000430</td>\n",
              "      <td>8.0</td>\n",
              "      <td>2013-01-17 17:22:00+00:00</td>\n",
              "      <td>0.000000</td>\n",
              "      <td>0.000000</td>\n",
              "      <td>0.000000</td>\n",
              "      <td>0.000000</td>\n",
              "      <td>2.0</td>\n",
              "      <td>0.0</td>\n",
              "      <td>2013.0</td>\n",
              "      <td>1.0</td>\n",
              "      <td>17.0</td>\n",
              "      <td>3.0</td>\n",
              "      <td>17.0</td>\n",
              "    </tr>\n",
              "    <tr>\n",
              "      <th>...</th>\n",
              "      <td>...</td>\n",
              "      <td>...</td>\n",
              "      <td>...</td>\n",
              "      <td>...</td>\n",
              "      <td>...</td>\n",
              "      <td>...</td>\n",
              "      <td>...</td>\n",
              "      <td>...</td>\n",
              "      <td>...</td>\n",
              "      <td>...</td>\n",
              "      <td>...</td>\n",
              "      <td>...</td>\n",
              "      <td>...</td>\n",
              "      <td>...</td>\n",
              "    </tr>\n",
              "    <tr>\n",
              "      <th>999888</th>\n",
              "      <td>2010-04-28 21:08:00.000000380</td>\n",
              "      <td>9.3</td>\n",
              "      <td>2010-04-28 21:08:00+00:00</td>\n",
              "      <td>0.000000</td>\n",
              "      <td>0.000000</td>\n",
              "      <td>0.000000</td>\n",
              "      <td>0.000000</td>\n",
              "      <td>3.0</td>\n",
              "      <td>0.0</td>\n",
              "      <td>2010.0</td>\n",
              "      <td>4.0</td>\n",
              "      <td>28.0</td>\n",
              "      <td>2.0</td>\n",
              "      <td>21.0</td>\n",
              "    </tr>\n",
              "    <tr>\n",
              "      <th>999915</th>\n",
              "      <td>2014-05-12 02:34:05.000000100</td>\n",
              "      <td>8.0</td>\n",
              "      <td>2014-05-12 02:34:05+00:00</td>\n",
              "      <td>0.000000</td>\n",
              "      <td>0.000000</td>\n",
              "      <td>0.000000</td>\n",
              "      <td>0.000000</td>\n",
              "      <td>2.0</td>\n",
              "      <td>0.0</td>\n",
              "      <td>2014.0</td>\n",
              "      <td>5.0</td>\n",
              "      <td>12.0</td>\n",
              "      <td>0.0</td>\n",
              "      <td>2.0</td>\n",
              "    </tr>\n",
              "    <tr>\n",
              "      <th>999931</th>\n",
              "      <td>2012-03-05 22:22:00.000000181</td>\n",
              "      <td>6.9</td>\n",
              "      <td>2012-03-05 22:22:00+00:00</td>\n",
              "      <td>-73.970005</td>\n",
              "      <td>40.713008</td>\n",
              "      <td>-73.970005</td>\n",
              "      <td>40.713008</td>\n",
              "      <td>5.0</td>\n",
              "      <td>0.0</td>\n",
              "      <td>2012.0</td>\n",
              "      <td>3.0</td>\n",
              "      <td>5.0</td>\n",
              "      <td>0.0</td>\n",
              "      <td>22.0</td>\n",
              "    </tr>\n",
              "    <tr>\n",
              "      <th>999988</th>\n",
              "      <td>2011-05-14 07:21:00.000000140</td>\n",
              "      <td>25.3</td>\n",
              "      <td>2011-05-14 07:21:00+00:00</td>\n",
              "      <td>-73.937393</td>\n",
              "      <td>40.757975</td>\n",
              "      <td>-73.937393</td>\n",
              "      <td>40.757975</td>\n",
              "      <td>5.0</td>\n",
              "      <td>0.0</td>\n",
              "      <td>2011.0</td>\n",
              "      <td>5.0</td>\n",
              "      <td>14.0</td>\n",
              "      <td>5.0</td>\n",
              "      <td>7.0</td>\n",
              "    </tr>\n",
              "    <tr>\n",
              "      <th>999996</th>\n",
              "      <td>2010-09-20 14:50:37.000000200</td>\n",
              "      <td>7.3</td>\n",
              "      <td>2010-09-20 14:50:37+00:00</td>\n",
              "      <td>-73.992103</td>\n",
              "      <td>40.671385</td>\n",
              "      <td>-73.992103</td>\n",
              "      <td>40.671385</td>\n",
              "      <td>2.0</td>\n",
              "      <td>0.0</td>\n",
              "      <td>2010.0</td>\n",
              "      <td>9.0</td>\n",
              "      <td>20.0</td>\n",
              "      <td>0.0</td>\n",
              "      <td>14.0</td>\n",
              "    </tr>\n",
              "  </tbody>\n",
              "</table>\n",
              "<p>28667 rows × 14 columns</p>\n",
              "</div>"
            ],
            "text/plain": [
              "                                 key  fare_amount  ... Day of Week  Hour\n",
              "11     2012-12-24 11:24:00.000000980          5.5  ...         0.0  11.0\n",
              "15     2013-11-23 12:57:00.000000190          5.0  ...         5.0  12.0\n",
              "26     2011-02-07 20:01:00.000000114          6.5  ...         0.0  20.0\n",
              "105    2009-03-25 00:08:52.000000100         52.0  ...         2.0   0.0\n",
              "124    2013-01-17 17:22:00.000000430          8.0  ...         3.0  17.0\n",
              "...                              ...          ...  ...         ...   ...\n",
              "999888 2010-04-28 21:08:00.000000380          9.3  ...         2.0  21.0\n",
              "999915 2014-05-12 02:34:05.000000100          8.0  ...         0.0   2.0\n",
              "999931 2012-03-05 22:22:00.000000181          6.9  ...         0.0  22.0\n",
              "999988 2011-05-14 07:21:00.000000140         25.3  ...         5.0   7.0\n",
              "999996 2010-09-20 14:50:37.000000200          7.3  ...         0.0  14.0\n",
              "\n",
              "[28667 rows x 14 columns]"
            ]
          },
          "metadata": {},
          "execution_count": 264
        }
      ]
    },
    {
      "cell_type": "code",
      "metadata": {
        "id": "pZQ9RHJiLudB",
        "colab": {
          "base_uri": "https://localhost:8080/",
          "height": 295
        },
        "outputId": "c258c3a8-8d51-43cc-9bf9-9c5a7f6593d0"
      },
      "source": [
        "#fare and Distance are both 0\n",
        "train[(train['H_Distance']==0) & (train['fare_amount']==0)]"
      ],
      "execution_count": 265,
      "outputs": [
        {
          "output_type": "execute_result",
          "data": {
            "text/html": [
              "<div>\n",
              "<style scoped>\n",
              "    .dataframe tbody tr th:only-of-type {\n",
              "        vertical-align: middle;\n",
              "    }\n",
              "\n",
              "    .dataframe tbody tr th {\n",
              "        vertical-align: top;\n",
              "    }\n",
              "\n",
              "    .dataframe thead th {\n",
              "        text-align: right;\n",
              "    }\n",
              "</style>\n",
              "<table border=\"1\" class=\"dataframe\">\n",
              "  <thead>\n",
              "    <tr style=\"text-align: right;\">\n",
              "      <th></th>\n",
              "      <th>key</th>\n",
              "      <th>fare_amount</th>\n",
              "      <th>pickup_datetime</th>\n",
              "      <th>pickup_longitude</th>\n",
              "      <th>pickup_latitude</th>\n",
              "      <th>dropoff_longitude</th>\n",
              "      <th>dropoff_latitude</th>\n",
              "      <th>passenger_count</th>\n",
              "      <th>H_Distance</th>\n",
              "      <th>Year</th>\n",
              "      <th>Month</th>\n",
              "      <th>Date</th>\n",
              "      <th>Day of Week</th>\n",
              "      <th>Hour</th>\n",
              "    </tr>\n",
              "  </thead>\n",
              "  <tbody>\n",
              "    <tr>\n",
              "      <th>105051</th>\n",
              "      <td>2013-08-21 21:41:00.000000215</td>\n",
              "      <td>0.0</td>\n",
              "      <td>2013-08-21 21:41:00+00:00</td>\n",
              "      <td>0.000000</td>\n",
              "      <td>0.000000</td>\n",
              "      <td>0.000000</td>\n",
              "      <td>0.000000</td>\n",
              "      <td>2.0</td>\n",
              "      <td>0.0</td>\n",
              "      <td>2013.0</td>\n",
              "      <td>8.0</td>\n",
              "      <td>21.0</td>\n",
              "      <td>2.0</td>\n",
              "      <td>21.0</td>\n",
              "    </tr>\n",
              "    <tr>\n",
              "      <th>331597</th>\n",
              "      <td>2013-08-05 06:45:54.000000500</td>\n",
              "      <td>0.0</td>\n",
              "      <td>2013-08-05 06:45:54+00:00</td>\n",
              "      <td>-73.982354</td>\n",
              "      <td>40.679971</td>\n",
              "      <td>-73.982354</td>\n",
              "      <td>40.679971</td>\n",
              "      <td>1.0</td>\n",
              "      <td>0.0</td>\n",
              "      <td>2013.0</td>\n",
              "      <td>8.0</td>\n",
              "      <td>5.0</td>\n",
              "      <td>0.0</td>\n",
              "      <td>6.0</td>\n",
              "    </tr>\n",
              "    <tr>\n",
              "      <th>436658</th>\n",
              "      <td>2015-03-04 22:33:39.000000800</td>\n",
              "      <td>0.0</td>\n",
              "      <td>2015-03-04 22:33:39+00:00</td>\n",
              "      <td>-74.043442</td>\n",
              "      <td>40.788208</td>\n",
              "      <td>-74.043442</td>\n",
              "      <td>40.788208</td>\n",
              "      <td>1.0</td>\n",
              "      <td>0.0</td>\n",
              "      <td>2015.0</td>\n",
              "      <td>3.0</td>\n",
              "      <td>4.0</td>\n",
              "      <td>2.0</td>\n",
              "      <td>22.0</td>\n",
              "    </tr>\n",
              "    <tr>\n",
              "      <th>689250</th>\n",
              "      <td>2015-05-27 23:10:03.000000400</td>\n",
              "      <td>0.0</td>\n",
              "      <td>2015-05-27 23:10:03+00:00</td>\n",
              "      <td>-73.994125</td>\n",
              "      <td>40.741131</td>\n",
              "      <td>-73.994125</td>\n",
              "      <td>40.741131</td>\n",
              "      <td>1.0</td>\n",
              "      <td>0.0</td>\n",
              "      <td>2015.0</td>\n",
              "      <td>5.0</td>\n",
              "      <td>27.0</td>\n",
              "      <td>2.0</td>\n",
              "      <td>23.0</td>\n",
              "    </tr>\n",
              "  </tbody>\n",
              "</table>\n",
              "</div>"
            ],
            "text/plain": [
              "                                 key  fare_amount  ... Day of Week  Hour\n",
              "105051 2013-08-21 21:41:00.000000215          0.0  ...         2.0  21.0\n",
              "331597 2013-08-05 06:45:54.000000500          0.0  ...         0.0   6.0\n",
              "436658 2015-03-04 22:33:39.000000800          0.0  ...         2.0  22.0\n",
              "689250 2015-05-27 23:10:03.000000400          0.0  ...         2.0  23.0\n",
              "\n",
              "[4 rows x 14 columns]"
            ]
          },
          "metadata": {},
          "execution_count": 265
        }
      ]
    },
    {
      "cell_type": "code",
      "metadata": {
        "id": "PLoRKaFFOJS2"
      },
      "source": [
        "train = train.drop(train[(train['H_Distance']==0) & (train['fare_amount']==0)].index ,axis = 0)"
      ],
      "execution_count": 266,
      "outputs": []
    },
    {
      "cell_type": "code",
      "metadata": {
        "id": "KsZmQwFBOSaw"
      },
      "source": [
        "bad_data = train.loc[((train['Hour']>=6) &(train['Hour']<=20)) &((train['Day of Week']>=1) & (train['Day of Week']<=5)) & (train['H_Distance']==0) &(train['fare_amount']<2.5)]"
      ],
      "execution_count": 267,
      "outputs": []
    },
    {
      "cell_type": "code",
      "metadata": {
        "id": "uxQupTUWSczX"
      },
      "source": [
        "train=train.drop(bad_data.index, axis=0)\n"
      ],
      "execution_count": 268,
      "outputs": []
    },
    {
      "cell_type": "code",
      "metadata": {
        "id": "oUPrv8ieSn0j",
        "colab": {
          "base_uri": "https://localhost:8080/"
        },
        "outputId": "e35e5f3e-2037-4af8-8751-2a316f95522f"
      },
      "source": [
        "train.shape"
      ],
      "execution_count": 269,
      "outputs": [
        {
          "output_type": "execute_result",
          "data": {
            "text/plain": [
              "(999910, 14)"
            ]
          },
          "metadata": {},
          "execution_count": 269
        }
      ]
    },
    {
      "cell_type": "code",
      "metadata": {
        "id": "2XXE9o5KSo8A",
        "colab": {
          "base_uri": "https://localhost:8080/"
        },
        "outputId": "d7652327-5b60-4197-b329-bff1e8335660"
      },
      "source": [
        "#Between 8PM and 6AM\n",
        "bad_data = train.drop(train[((train['Hour']<6) | (train['Hour']>20)) & ((train['Day of Week']>=1) & (train['Day of Week']<=5)) &((train['H_Distance']==0)&(train['fare_amount']<3.0))].index , axis = 0)\n"
      ],
      "execution_count": 271,
      "outputs": [
        {
          "output_type": "execute_result",
          "data": {
            "text/plain": [
              "Counter({0.0: 128667,\n",
              "         1.0: 139941,\n",
              "         2.0: 144774,\n",
              "         3.0: 149608,\n",
              "         4.0: 154171,\n",
              "         5.0: 151219,\n",
              "         6.0: 131287})"
            ]
          },
          "metadata": {},
          "execution_count": 271
        }
      ]
    },
    {
      "cell_type": "code",
      "metadata": {
        "colab": {
          "base_uri": "https://localhost:8080/"
        },
        "id": "cjmgDEUgY5D7",
        "outputId": "a352d9e7-c08f-4b71-b147-5eb52ea19714"
      },
      "source": [
        "train.shape"
      ],
      "execution_count": 290,
      "outputs": [
        {
          "output_type": "execute_result",
          "data": {
            "text/plain": [
              "(999538, 14)"
            ]
          },
          "metadata": {},
          "execution_count": 290
        }
      ]
    },
    {
      "cell_type": "code",
      "metadata": {
        "id": "gIOQpGH5aYBr"
      },
      "source": [
        "train = train.drop(train[((train['Day of Week']==0) | (train['Day of Week']==6)) & (train['H_Distance']==0) & (train['fare_amount'] < 3.0)].index , axis = 0)"
      ],
      "execution_count": 288,
      "outputs": []
    },
    {
      "cell_type": "code",
      "metadata": {
        "colab": {
          "base_uri": "https://localhost:8080/"
        },
        "id": "ogDm0qRVepFX",
        "outputId": "2396d9a3-7a4a-42b4-91b2-4a2bd41f8eba"
      },
      "source": [
        "train.shape"
      ],
      "execution_count": 289,
      "outputs": [
        {
          "output_type": "execute_result",
          "data": {
            "text/plain": [
              "(999538, 14)"
            ]
          },
          "metadata": {},
          "execution_count": 289
        }
      ]
    },
    {
      "cell_type": "code",
      "metadata": {
        "id": "O_Zg72Lkc7fk"
      },
      "source": [
        "train = train.drop(train[(train['H_Distance']!=0) & (train['fare_amount']==0) &(train['H_Distance']>0.001)].index, axis = 0)"
      ],
      "execution_count": 297,
      "outputs": []
    },
    {
      "cell_type": "code",
      "metadata": {
        "colab": {
          "base_uri": "https://localhost:8080/"
        },
        "id": "dBeDMTKQc8br",
        "outputId": "b1d190d3-8409-4560-a62e-1334704598e0"
      },
      "source": [
        "train.shape"
      ],
      "execution_count": 299,
      "outputs": [
        {
          "output_type": "execute_result",
          "data": {
            "text/plain": [
              "(999522, 14)"
            ]
          },
          "metadata": {},
          "execution_count": 299
        }
      ]
    },
    {
      "cell_type": "code",
      "metadata": {
        "colab": {
          "base_uri": "https://localhost:8080/"
        },
        "id": "23qHeI6vjiRy",
        "outputId": "c1b0e037-636f-4efc-d8d9-cf30a042c2bb"
      },
      "source": [
        "#problem\n",
        "bad_data = train.loc[(train['H_Distance']==0)&(train['fare_amount']!=0)]\n",
        "\n",
        "bad_data.shape"
      ],
      "execution_count": 303,
      "outputs": [
        {
          "output_type": "execute_result",
          "data": {
            "text/plain": [
              "(28289, 14)"
            ]
          },
          "metadata": {},
          "execution_count": 303
        }
      ]
    },
    {
      "cell_type": "code",
      "metadata": {
        "colab": {
          "base_uri": "https://localhost:8080/"
        },
        "id": "kGdtCfh3j7GV",
        "outputId": "9cce2471-aa82-478a-a9f0-45ba33ab38b9"
      },
      "source": [
        "bad_data.loc[((bad_data['H_Distance']==0) & (bad_data['fare_amount']<=3.0))].shape"
      ],
      "execution_count": 310,
      "outputs": [
        {
          "output_type": "execute_result",
          "data": {
            "text/plain": [
              "(1130, 14)"
            ]
          },
          "metadata": {},
          "execution_count": 310
        }
      ]
    },
    {
      "cell_type": "code",
      "metadata": {
        "colab": {
          "base_uri": "https://localhost:8080/"
        },
        "id": "53V5G-e7laUQ",
        "outputId": "7a39689f-1329-4c55-e4cd-6e250ef0783d"
      },
      "source": [
        "bad_data.loc[(bad_data['H_Distance']==0) & (bad_data['fare_amount']>3.0)].shape"
      ],
      "execution_count": 308,
      "outputs": [
        {
          "output_type": "execute_result",
          "data": {
            "text/plain": [
              "(27159, 14)"
            ]
          },
          "metadata": {},
          "execution_count": 308
        }
      ]
    },
    {
      "cell_type": "code",
      "metadata": {
        "colab": {
          "base_uri": "https://localhost:8080/"
        },
        "id": "lCCLbEYalqra",
        "outputId": "7ccc4544-2fa8-4f63-a9f0-86021c8e18ef"
      },
      "source": [
        "bad_data['H_Distance'] = bad_data.apply(\n",
        "    lambda row : ((row['fare_amount'] -2.5)/1.56),axis = 1\n",
        ")"
      ],
      "execution_count": 313,
      "outputs": [
        {
          "output_type": "stream",
          "name": "stderr",
          "text": [
            "/usr/local/lib/python3.7/dist-packages/ipykernel_launcher.py:2: SettingWithCopyWarning: \n",
            "A value is trying to be set on a copy of a slice from a DataFrame.\n",
            "Try using .loc[row_indexer,col_indexer] = value instead\n",
            "\n",
            "See the caveats in the documentation: https://pandas.pydata.org/pandas-docs/stable/user_guide/indexing.html#returning-a-view-versus-a-copy\n",
            "  \n"
          ]
        }
      ]
    },
    {
      "cell_type": "code",
      "metadata": {
        "id": "EbsMeEvDnUjJ"
      },
      "source": [
        "train.update(bad_data)"
      ],
      "execution_count": 314,
      "outputs": []
    },
    {
      "cell_type": "code",
      "metadata": {
        "colab": {
          "base_uri": "https://localhost:8080/"
        },
        "id": "z_hoTTetndxz",
        "outputId": "fdfc1593-b1b7-4031-f0f5-cfa167d18c30"
      },
      "source": [
        "train.shape"
      ],
      "execution_count": 315,
      "outputs": [
        {
          "output_type": "execute_result",
          "data": {
            "text/plain": [
              "(999522, 14)"
            ]
          },
          "metadata": {},
          "execution_count": 315
        }
      ]
    },
    {
      "cell_type": "markdown",
      "metadata": {
        "id": "Vxf3B4sNoHXl"
      },
      "source": [
        "Data Cleaning is done "
      ]
    },
    {
      "cell_type": "code",
      "metadata": {
        "colab": {
          "base_uri": "https://localhost:8080/",
          "height": 343
        },
        "id": "D3kzM6Irn7Ac",
        "outputId": "5f56243e-7b9e-49c2-8fa2-b80f152f8a12"
      },
      "source": [
        "train.head()"
      ],
      "execution_count": 319,
      "outputs": [
        {
          "output_type": "execute_result",
          "data": {
            "text/html": [
              "<div>\n",
              "<style scoped>\n",
              "    .dataframe tbody tr th:only-of-type {\n",
              "        vertical-align: middle;\n",
              "    }\n",
              "\n",
              "    .dataframe tbody tr th {\n",
              "        vertical-align: top;\n",
              "    }\n",
              "\n",
              "    .dataframe thead th {\n",
              "        text-align: right;\n",
              "    }\n",
              "</style>\n",
              "<table border=\"1\" class=\"dataframe\">\n",
              "  <thead>\n",
              "    <tr style=\"text-align: right;\">\n",
              "      <th></th>\n",
              "      <th>key</th>\n",
              "      <th>fare_amount</th>\n",
              "      <th>pickup_datetime</th>\n",
              "      <th>pickup_longitude</th>\n",
              "      <th>pickup_latitude</th>\n",
              "      <th>dropoff_longitude</th>\n",
              "      <th>dropoff_latitude</th>\n",
              "      <th>passenger_count</th>\n",
              "      <th>H_Distance</th>\n",
              "      <th>Year</th>\n",
              "      <th>Month</th>\n",
              "      <th>Date</th>\n",
              "      <th>Day of Week</th>\n",
              "      <th>Hour</th>\n",
              "    </tr>\n",
              "  </thead>\n",
              "  <tbody>\n",
              "    <tr>\n",
              "      <th>0</th>\n",
              "      <td>2009-06-15 17:26:21.000000100</td>\n",
              "      <td>4.5</td>\n",
              "      <td>2009-06-15 17:26:21+00:00</td>\n",
              "      <td>-73.844311</td>\n",
              "      <td>40.721319</td>\n",
              "      <td>-73.841610</td>\n",
              "      <td>40.712278</td>\n",
              "      <td>1.0</td>\n",
              "      <td>1.030764</td>\n",
              "      <td>2009.0</td>\n",
              "      <td>6.0</td>\n",
              "      <td>15.0</td>\n",
              "      <td>0.0</td>\n",
              "      <td>17.0</td>\n",
              "    </tr>\n",
              "    <tr>\n",
              "      <th>1</th>\n",
              "      <td>2010-01-05 16:52:16.000000200</td>\n",
              "      <td>16.9</td>\n",
              "      <td>2010-01-05 16:52:16+00:00</td>\n",
              "      <td>-74.016048</td>\n",
              "      <td>40.711303</td>\n",
              "      <td>-73.979268</td>\n",
              "      <td>40.782004</td>\n",
              "      <td>1.0</td>\n",
              "      <td>8.450134</td>\n",
              "      <td>2010.0</td>\n",
              "      <td>1.0</td>\n",
              "      <td>5.0</td>\n",
              "      <td>1.0</td>\n",
              "      <td>16.0</td>\n",
              "    </tr>\n",
              "    <tr>\n",
              "      <th>2</th>\n",
              "      <td>2011-08-18 00:35:00.000000490</td>\n",
              "      <td>5.7</td>\n",
              "      <td>2011-08-18 00:35:00+00:00</td>\n",
              "      <td>-73.982738</td>\n",
              "      <td>40.761270</td>\n",
              "      <td>-73.991242</td>\n",
              "      <td>40.750562</td>\n",
              "      <td>2.0</td>\n",
              "      <td>1.389525</td>\n",
              "      <td>2011.0</td>\n",
              "      <td>8.0</td>\n",
              "      <td>18.0</td>\n",
              "      <td>3.0</td>\n",
              "      <td>0.0</td>\n",
              "    </tr>\n",
              "    <tr>\n",
              "      <th>3</th>\n",
              "      <td>2012-04-21 04:30:42.000000100</td>\n",
              "      <td>7.7</td>\n",
              "      <td>2012-04-21 04:30:42+00:00</td>\n",
              "      <td>-73.987130</td>\n",
              "      <td>40.733143</td>\n",
              "      <td>-73.991567</td>\n",
              "      <td>40.758092</td>\n",
              "      <td>1.0</td>\n",
              "      <td>2.799270</td>\n",
              "      <td>2012.0</td>\n",
              "      <td>4.0</td>\n",
              "      <td>21.0</td>\n",
              "      <td>5.0</td>\n",
              "      <td>4.0</td>\n",
              "    </tr>\n",
              "    <tr>\n",
              "      <th>4</th>\n",
              "      <td>2010-03-09 07:51:00.000000135</td>\n",
              "      <td>5.3</td>\n",
              "      <td>2010-03-09 07:51:00+00:00</td>\n",
              "      <td>-73.968095</td>\n",
              "      <td>40.768008</td>\n",
              "      <td>-73.956655</td>\n",
              "      <td>40.783762</td>\n",
              "      <td>1.0</td>\n",
              "      <td>1.999157</td>\n",
              "      <td>2010.0</td>\n",
              "      <td>3.0</td>\n",
              "      <td>9.0</td>\n",
              "      <td>1.0</td>\n",
              "      <td>7.0</td>\n",
              "    </tr>\n",
              "  </tbody>\n",
              "</table>\n",
              "</div>"
            ],
            "text/plain": [
              "                            key  fare_amount  ... Day of Week  Hour\n",
              "0 2009-06-15 17:26:21.000000100          4.5  ...         0.0  17.0\n",
              "1 2010-01-05 16:52:16.000000200         16.9  ...         1.0  16.0\n",
              "2 2011-08-18 00:35:00.000000490          5.7  ...         3.0   0.0\n",
              "3 2012-04-21 04:30:42.000000100          7.7  ...         5.0   4.0\n",
              "4 2010-03-09 07:51:00.000000135          5.3  ...         1.0   7.0\n",
              "\n",
              "[5 rows x 14 columns]"
            ]
          },
          "metadata": {},
          "execution_count": 319
        }
      ]
    },
    {
      "cell_type": "code",
      "metadata": {
        "id": "M8metxlOoU6M"
      },
      "source": [
        "train.drop(columns = ['key' , 'pickup_datetime'] , axis=1 , inplace = True)\n",
        "test.drop(columns = ['key' , 'pickup_datetime'] , axis = 1 , inplace = True) "
      ],
      "execution_count": 320,
      "outputs": []
    },
    {
      "cell_type": "code",
      "metadata": {
        "id": "MtwDayT1oWG0"
      },
      "source": [
        "x_train = train.drop(columns=['fare_amount'])\n",
        "\n",
        "y_train = train['fare_amount']\n",
        "\n",
        "x_test = test\n"
      ],
      "execution_count": 323,
      "outputs": []
    },
    {
      "cell_type": "code",
      "metadata": {
        "colab": {
          "base_uri": "https://localhost:8080/",
          "height": 197
        },
        "id": "DZaxepJEo8kV",
        "outputId": "08979b05-d008-4d2d-df06-3443d278b3d6"
      },
      "source": [
        "from sklearn.ensemble import RandomForestRegressor\n",
        "\n",
        "rf = RandomForestRegressor()\n",
        "\n",
        "rf.fit(x_train , y_train)"
      ],
      "execution_count": 325,
      "outputs": [
        {
          "output_type": "error",
          "ename": "AttributeError",
          "evalue": "ignored",
          "traceback": [
            "\u001b[0;31m---------------------------------------------------------------------------\u001b[0m",
            "\u001b[0;31mAttributeError\u001b[0m                            Traceback (most recent call last)",
            "\u001b[0;32m<ipython-input-325-18c46e1b2a78>\u001b[0m in \u001b[0;36m<module>\u001b[0;34m()\u001b[0m\n\u001b[1;32m      5\u001b[0m \u001b[0mrf\u001b[0m\u001b[0;34m.\u001b[0m\u001b[0mfit\u001b[0m\u001b[0;34m(\u001b[0m\u001b[0mx_train\u001b[0m \u001b[0;34m,\u001b[0m \u001b[0my_train\u001b[0m\u001b[0;34m)\u001b[0m\u001b[0;34m\u001b[0m\u001b[0;34m\u001b[0m\u001b[0m\n\u001b[1;32m      6\u001b[0m \u001b[0;34m\u001b[0m\u001b[0m\n\u001b[0;32m----> 7\u001b[0;31m \u001b[0mrf\u001b[0m\u001b[0;34m.\u001b[0m\u001b[0mpredict\u001b[0m \u001b[0;34m=\u001b[0m \u001b[0mrf\u001b[0m\u001b[0;34m.\u001b[0m\u001b[0mpredit\u001b[0m\u001b[0;34m(\u001b[0m\u001b[0mx_test\u001b[0m\u001b[0;34m)\u001b[0m\u001b[0;34m\u001b[0m\u001b[0;34m\u001b[0m\u001b[0m\n\u001b[0m",
            "\u001b[0;31mAttributeError\u001b[0m: 'RandomForestRegressor' object has no attribute 'predit'"
          ]
        }
      ]
    },
    {
      "cell_type": "code",
      "metadata": {
        "id": "Fcnm_RqKqFnD"
      },
      "source": [
        "y_test = rf.predict(x_test)\n"
      ],
      "execution_count": 326,
      "outputs": []
    },
    {
      "cell_type": "code",
      "metadata": {
        "id": "43sMvw2hzsXJ"
      },
      "source": [
        "sample['fare_amount'] = y_test\n",
        "\n",
        "sample.to_csv('submission_1.csv' , index = False)"
      ],
      "execution_count": 328,
      "outputs": []
    },
    {
      "cell_type": "code",
      "metadata": {
        "id": "rt6SdFe15upS"
      },
      "source": [
        ""
      ],
      "execution_count": null,
      "outputs": []
    }
  ]
}